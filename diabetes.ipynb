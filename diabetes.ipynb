{
 "cells": [
  {
   "cell_type": "markdown",
   "metadata": {},
   "source": [
    "# Unsupervised Learning & Dimensionality Reduction Using Diabetes Dataset"
   ]
  },
  {
   "cell_type": "markdown",
   "metadata": {},
   "source": [
    "In 2014, some researchers published an article called \"Impact of c1HbA Measurement on Hospital Readmission Rates: Analysis of 70,000 Clinical Database Patient Records.\" The dataset used in this notebook is a subset of the dataset used in the article containing 50 columns. The columns are as follows:\n",
    "- encounter_id: Unique identifier of an encounter\n",
    "- patient_nbr: Unique identifier of a patient\n",
    "- race: race of each patient including Asian, African American, ...\n",
    "- gender: gender of each patient\n",
    "- age: age of each patient grouped in 10-year intervals: (0, 10), (10, 20), ..., (90, 100)\n",
    "- weight: weight in pounds\n",
    "- admission_type_id: Integer identifier corresponding to 9 distinct values, for example, emergency, urgent, elective, newborn, and not available\n",
    "- discharge_disposition_id: Integer identifier corresponding to 29 distinct values, for example, discharged to home, expired, and not available\n",
    "- admission_source_id: Integer identifier corresponding to 21 distinct values, for example, physician referral, emergency room, and transfer from a hospital\n",
    "- time_in_hospital: Integer number of days between admission and discharge\n",
    "- payer_code: Integer identifier corresponding to 23 distinct values, for example, Blue Cross/Blue Shield, Medicare, and self-pay\n",
    "- medical_specialty: Integer identifier of a specialty of the admitting physician, corresponding to 84 distinct values, for example, cardiology, internal medicine, family/general practice, and surgeon\n",
    "- num_lab_procedures: Number of lab tests performed during the encounter\n",
    "- num_procedures: Number of procedures (other than lab tests) performed during the encounter\n",
    "- num_medications: Number of distinct generic names administered during the encounter\n",
    "- number_outpatient: Number of outpatient visits of the patient in the year preceding the encounter\n",
    "- number_emergency: Number of emergency visits of the patient in the year preceding the encounter\n",
    "- number_inpatient: Number of inpatient visits of the patient in the year preceding the encounter\n",
    "- diag_1: The primary diagnosis (coded as first three digits of ICD9); 848 distinct values\n",
    "- diag_2: Secondary diagnosis (coded as first three digits of ICD9); 923 distinct values\n",
    "- diag_3: Additional secondary diagnosis (coded as first three digits of ICD9); 954 distinct values\n",
    "- number_diagnoses: Number of diagnoses entered to the system\n",
    "- max_glu_serum: Indicates the range of the result or if the test was not taken. Values: \"None\", \">200\", \"normal\", \">300\"\n",
    "- A1Cresult: Indicates the range of the result or if the test was not taken. Values: \"None\", \">7\", \"normal\", \">8\"\n",
    "- change: Indicates if there was a change in diabetic medications (either dosage or generic name). Values: \"change\" and \"no change\"\n",
    "- diabetesMed: Indicates if there was any diabetic medication prescribed. Values: \"yes\" and \"no\"\n",
    "- readmitted: Days to inpatient readmission. Values: \"<30\" if the patient was readmitted in less than 30 days, \">30\" if the patient was readmitted in more than 30 days, and \"No\" if the patient was not readmitted"
   ]
  },
  {
   "cell_type": "markdown",
   "metadata": {},
   "source": [
    "Import the necessary libraries and load the dataset."
   ]
  },
  {
   "cell_type": "code",
   "execution_count": 201,
   "metadata": {},
   "outputs": [],
   "source": [
    "import pandas as pd\n",
    "import numpy as np\n",
    "from sklearn.decomposition import PCA\n",
    "import io\n",
    "from sklearn.preprocessing import StandardScaler\n",
    "from sklearn.preprocessing import OneHotEncoder, LabelEncoder\n",
    "from sklearn.cluster import KMeans, DBSCAN\n",
    "from sklearn.metrics import silhouette_score\n",
    "import matplotlib.pyplot as plt"
   ]
  },
  {
   "cell_type": "code",
   "execution_count": 202,
   "metadata": {},
   "outputs": [],
   "source": [
    "DATA_FILE_PATH = 'dataset_diabetes/diabetic_data.csv'\n",
    "MAPPING_FILE_PATH = 'dataset_diabetes/IDs_mapping.csv'"
   ]
  },
  {
   "cell_type": "code",
   "execution_count": 203,
   "metadata": {},
   "outputs": [],
   "source": [
    "diabetes_df = pd.read_csv(DATA_FILE_PATH)"
   ]
  },
  {
   "cell_type": "markdown",
   "metadata": {},
   "source": [
    "## Preprocessing"
   ]
  },
  {
   "cell_type": "code",
   "execution_count": 204,
   "metadata": {},
   "outputs": [
    {
     "name": "stdout",
     "output_type": "stream",
     "text": [
      "<class 'pandas.core.frame.DataFrame'>\n",
      "RangeIndex: 101766 entries, 0 to 101765\n",
      "Data columns (total 50 columns):\n",
      " #   Column                    Non-Null Count   Dtype \n",
      "---  ------                    --------------   ----- \n",
      " 0   encounter_id              101766 non-null  int64 \n",
      " 1   patient_nbr               101766 non-null  int64 \n",
      " 2   race                      101766 non-null  object\n",
      " 3   gender                    101766 non-null  object\n",
      " 4   age                       101766 non-null  object\n",
      " 5   weight                    101766 non-null  object\n",
      " 6   admission_type_id         101766 non-null  int64 \n",
      " 7   discharge_disposition_id  101766 non-null  int64 \n",
      " 8   admission_source_id       101766 non-null  int64 \n",
      " 9   time_in_hospital          101766 non-null  int64 \n",
      " 10  payer_code                101766 non-null  object\n",
      " 11  medical_specialty         101766 non-null  object\n",
      " 12  num_lab_procedures        101766 non-null  int64 \n",
      " 13  num_procedures            101766 non-null  int64 \n",
      " 14  num_medications           101766 non-null  int64 \n",
      " 15  number_outpatient         101766 non-null  int64 \n",
      " 16  number_emergency          101766 non-null  int64 \n",
      " 17  number_inpatient          101766 non-null  int64 \n",
      " 18  diag_1                    101766 non-null  object\n",
      " 19  diag_2                    101766 non-null  object\n",
      " 20  diag_3                    101766 non-null  object\n",
      " 21  number_diagnoses          101766 non-null  int64 \n",
      " 22  max_glu_serum             101766 non-null  object\n",
      " 23  A1Cresult                 101766 non-null  object\n",
      " 24  metformin                 101766 non-null  object\n",
      " 25  repaglinide               101766 non-null  object\n",
      " 26  nateglinide               101766 non-null  object\n",
      " 27  chlorpropamide            101766 non-null  object\n",
      " 28  glimepiride               101766 non-null  object\n",
      " 29  acetohexamide             101766 non-null  object\n",
      " 30  glipizide                 101766 non-null  object\n",
      " 31  glyburide                 101766 non-null  object\n",
      " 32  tolbutamide               101766 non-null  object\n",
      " 33  pioglitazone              101766 non-null  object\n",
      " 34  rosiglitazone             101766 non-null  object\n",
      " 35  acarbose                  101766 non-null  object\n",
      " 36  miglitol                  101766 non-null  object\n",
      " 37  troglitazone              101766 non-null  object\n",
      " 38  tolazamide                101766 non-null  object\n",
      " 39  examide                   101766 non-null  object\n",
      " 40  citoglipton               101766 non-null  object\n",
      " 41  insulin                   101766 non-null  object\n",
      " 42  glyburide-metformin       101766 non-null  object\n",
      " 43  glipizide-metformin       101766 non-null  object\n",
      " 44  glimepiride-pioglitazone  101766 non-null  object\n",
      " 45  metformin-rosiglitazone   101766 non-null  object\n",
      " 46  metformin-pioglitazone    101766 non-null  object\n",
      " 47  change                    101766 non-null  object\n",
      " 48  diabetesMed               101766 non-null  object\n",
      " 49  readmitted                101766 non-null  object\n",
      "dtypes: int64(13), object(37)\n",
      "memory usage: 38.8+ MB\n"
     ]
    }
   ],
   "source": [
    "diabetes_df.info()"
   ]
  },
  {
   "cell_type": "markdown",
   "metadata": {},
   "source": [
    "### Mapping the Labels"
   ]
  },
  {
   "cell_type": "markdown",
   "metadata": {},
   "source": [
    "In this part we read the mapping file and map the labels to integers. We remove the first space in values if exists."
   ]
  },
  {
   "cell_type": "code",
   "execution_count": 205,
   "metadata": {},
   "outputs": [],
   "source": [
    "with open(MAPPING_FILE_PATH, 'r') as file:\n",
    "    content = file.read()\n",
    "sections = content.strip().split('\\n,\\n')\n",
    "\n",
    "mappings = {}\n",
    "for section in sections:\n",
    "    section_df = pd.read_csv(io.StringIO(section))\n",
    "    column_name = section_df.columns[0]\n",
    "    mappings[column_name] = dict(zip(section_df[column_name], section_df['description']))\n",
    "\n",
    "admission_type_mapping = mappings['admission_type_id']\n",
    "discharge_disposition_mapping = mappings['discharge_disposition_id']\n",
    "admission_source_mapping = mappings['admission_source_id']\n",
    "\n",
    "cleaned_admission_type_mapping = {k: v.strip() if isinstance(v, str) else v for k, v in admission_type_mapping.items()}\n",
    "cleaned_discharge_disposition_mapping = {k: v.strip() if isinstance(v, str) else v for k, v in discharge_disposition_mapping.items()}\n",
    "cleaned_admission_source_mapping = {k: v.strip() if isinstance(v, str) else v for k, v in admission_source_mapping.items()}\n",
    "\n",
    "diabetes_df['admission_type_id'] = diabetes_df['admission_type_id'].map(cleaned_admission_type_mapping)\n",
    "diabetes_df['discharge_disposition_id'] = diabetes_df['discharge_disposition_id'].map(cleaned_discharge_disposition_mapping)\n",
    "diabetes_df['admission_source_id'] = diabetes_df['admission_source_id'].map(cleaned_admission_source_mapping)\n"
   ]
  },
  {
   "cell_type": "markdown",
   "metadata": {},
   "source": [
    "### Checking for Duplicate Rows"
   ]
  },
  {
   "cell_type": "markdown",
   "metadata": {},
   "source": [
    "We check for duplicate rows and remove them. In this dataset, there are no duplicate rows."
   ]
  },
  {
   "cell_type": "code",
   "execution_count": 206,
   "metadata": {},
   "outputs": [
    {
     "name": "stdout",
     "output_type": "stream",
     "text": [
      "Number of rows before dropping duplicates: 101766\n",
      "Number of rows after dropping duplicates: 101766\n"
     ]
    }
   ],
   "source": [
    "print('Number of rows before dropping duplicates:', diabetes_df.shape[0])\n",
    "diabetes_df.drop_duplicates(inplace=True)\n",
    "print('Number of rows after dropping duplicates:', diabetes_df.shape[0])\n"
   ]
  },
  {
   "cell_type": "markdown",
   "metadata": {},
   "source": [
    "### Handling Missing Values"
   ]
  },
  {
   "cell_type": "markdown",
   "metadata": {},
   "source": [
    "We replace `Not Mapped`, `Not Available`, `Unknown/Invalid`, `?`, and `None` values with `np.nan` in order to consider them as missing values. We also drop the columns with more than 50% missing values."
   ]
  },
  {
   "cell_type": "code",
   "execution_count": 207,
   "metadata": {},
   "outputs": [
    {
     "name": "stdout",
     "output_type": "stream",
     "text": [
      "Number of NaN values in each column:\n",
      "encounter_id                    0\n",
      "patient_nbr                     0\n",
      "race                         2273\n",
      "gender                          3\n",
      "age                             0\n",
      "weight                      98569\n",
      "admission_type_id           10396\n",
      "discharge_disposition_id     4680\n",
      "admission_source_id          7067\n",
      "time_in_hospital                0\n",
      "payer_code                  40256\n",
      "medical_specialty           49949\n",
      "num_lab_procedures              0\n",
      "num_procedures                  0\n",
      "num_medications                 0\n",
      "number_outpatient               0\n",
      "number_emergency                0\n",
      "number_inpatient                0\n",
      "diag_1                         21\n",
      "diag_2                        358\n",
      "diag_3                       1423\n",
      "number_diagnoses                0\n",
      "max_glu_serum               96420\n",
      "A1Cresult                   84748\n",
      "metformin                       0\n",
      "repaglinide                     0\n",
      "nateglinide                     0\n",
      "chlorpropamide                  0\n",
      "glimepiride                     0\n",
      "acetohexamide                   0\n",
      "glipizide                       0\n",
      "glyburide                       0\n",
      "tolbutamide                     0\n",
      "pioglitazone                    0\n",
      "rosiglitazone                   0\n",
      "acarbose                        0\n",
      "miglitol                        0\n",
      "troglitazone                    0\n",
      "tolazamide                      0\n",
      "examide                         0\n",
      "citoglipton                     0\n",
      "insulin                         0\n",
      "glyburide-metformin             0\n",
      "glipizide-metformin             0\n",
      "glimepiride-pioglitazone        0\n",
      "metformin-rosiglitazone         0\n",
      "metformin-pioglitazone          0\n",
      "change                          0\n",
      "diabetesMed                     0\n",
      "readmitted                      0\n",
      "dtype: int64\n"
     ]
    }
   ],
   "source": [
    "diabetes_df.replace('Not Available', np.nan, inplace=True)\n",
    "diabetes_df.replace('Not Mapped', np.nan, inplace=True)\n",
    "diabetes_df.replace('?', np.nan, inplace=True)\n",
    "diabetes_df.replace('Unknown/Invalid', np.nan, inplace=True)\n",
    "diabetes_df.replace('None', np.nan, inplace=True)\n",
    "\n",
    "nan_values = diabetes_df.isnull().sum()\n",
    "print(\"Number of NaN values in each column:\")\n",
    "print(nan_values)"
   ]
  },
  {
   "cell_type": "markdown",
   "metadata": {},
   "source": [
    "We drop the columns that more than 30% of their values are NaN."
   ]
  },
  {
   "cell_type": "code",
   "execution_count": 208,
   "metadata": {},
   "outputs": [],
   "source": [
    "missing_values_threshold = diabetes_df.shape[0] * 0.7\n",
    "diabetes_df.dropna(thresh=missing_values_threshold, axis=1, inplace=True)"
   ]
  },
  {
   "cell_type": "markdown",
   "metadata": {},
   "source": [
    "The most frequent value in each column and its frequency is calculated. As we can see most of them has a high frequency so we use them to fill the missing values."
   ]
  },
  {
   "cell_type": "code",
   "execution_count": 209,
   "metadata": {},
   "outputs": [
    {
     "name": "stdout",
     "output_type": "stream",
     "text": [
      "Columns with null values:\n",
      "Most frequent value in column race: Caucasian    76099\n",
      "Name: race, dtype: int64\n",
      "Most frequent value in column gender: Female    54708\n",
      "Name: gender, dtype: int64\n",
      "Most frequent value in column admission_type_id: Emergency    53990\n",
      "Name: admission_type_id, dtype: int64\n",
      "Most frequent value in column discharge_disposition_id: Discharged to home    60234\n",
      "Name: discharge_disposition_id, dtype: int64\n",
      "Most frequent value in column admission_source_id: Emergency Room    57494\n",
      "Name: admission_source_id, dtype: int64\n",
      "Most frequent value in column diag_1: 428    6862\n",
      "Name: diag_1, dtype: int64\n",
      "Most frequent value in column diag_2: 276    6752\n",
      "Name: diag_2, dtype: int64\n",
      "Most frequent value in column diag_3: 250    11555\n",
      "Name: diag_3, dtype: int64\n"
     ]
    }
   ],
   "source": [
    "cols_with_Nulls = diabetes_df.columns[diabetes_df.isnull().any()].tolist()\n",
    "print(\"Columns with null values:\")\n",
    "\n",
    "for col in cols_with_Nulls:\n",
    "    value_counts = diabetes_df[col].value_counts()\n",
    "    top_two_values = value_counts.head(1)\n",
    "    print(f\"Most frequent value in column {col}: {top_two_values}\")\n",
    "    \n",
    "for col in cols_with_Nulls:\n",
    "    diabetes_df[col].fillna(diabetes_df[col].value_counts().idxmax(), inplace=True)"
   ]
  },
  {
   "cell_type": "markdown",
   "metadata": {},
   "source": [
    "### Group `diag_1`, `diag_2`, and `diag_3` Values"
   ]
  },
  {
   "cell_type": "markdown",
   "metadata": {},
   "source": [
    "We used the first three digits of the ICD9 codes to group the values. "
   ]
  },
  {
   "cell_type": "code",
   "execution_count": 210,
   "metadata": {},
   "outputs": [],
   "source": [
    "ranges = [\n",
    "    (1, 140, 1),\n",
    "    (140, 240, 2),\n",
    "    (240, 280, 3),\n",
    "    (280, 290, 4),\n",
    "    (290, 320, 5),\n",
    "    (320, 390, 6),\n",
    "    (390, 460, 7),\n",
    "    (460, 520, 8),\n",
    "    (520, 580, 9),\n",
    "    (580, 630, 10),\n",
    "    (630, 680, 11),\n",
    "    (680, 710, 12),\n",
    "    (710, 740, 13),\n",
    "    (740, 760, 14),\n",
    "    (760, 780, 15),\n",
    "    (780, 800, 16),\n",
    "    (800, 1000, 17),\n",
    "]\n",
    "\n",
    "def group_by_range(value):\n",
    "    try:\n",
    "        value = float(value)\n",
    "        for lower, upper, group in ranges:\n",
    "            if lower <= value < upper:\n",
    "                return group\n",
    "    except ValueError:\n",
    "        return 18\n",
    "\n",
    "diabetes_df['diag_1'] = diabetes_df['diag_1'].apply(group_by_range)\n",
    "diabetes_df['diag_2'] = diabetes_df['diag_2'].apply(group_by_range)\n",
    "diabetes_df['diag_3'] = diabetes_df['diag_3'].apply(group_by_range)"
   ]
  },
  {
   "cell_type": "markdown",
   "metadata": {},
   "source": [
    "### Handling Outliers"
   ]
  },
  {
   "cell_type": "markdown",
   "metadata": {},
   "source": [
    "In this part we calculate the z-score of each column and replace the values that their z-score is more than 3 or less than -3 with the median of the column. We used replacing instead of removing the rows because the dataset has many columns and removing the rows may cause loss of information."
   ]
  },
  {
   "cell_type": "code",
   "execution_count": 211,
   "metadata": {},
   "outputs": [],
   "source": [
    "def replace_outliers_with_median(df):\n",
    "    for column in df.select_dtypes(include=[np.number]).columns:\n",
    "        z_scores = (df[column] - df[column].mean()) / df[column].std()\n",
    "        outliers = (z_scores > 3) | (z_scores < -3)\n",
    "        median = df[column].median()\n",
    "        df.loc[outliers, column] = median\n",
    "    return df\n",
    "\n",
    "diabetes_df = replace_outliers_with_median(diabetes_df)"
   ]
  },
  {
   "cell_type": "markdown",
   "metadata": {},
   "source": [
    "### Encoding Categorical Columns"
   ]
  },
  {
   "cell_type": "markdown",
   "metadata": {},
   "source": [
    "In this part we count the number of unique values in each categorical column and drop the columns with only one unique value."
   ]
  },
  {
   "cell_type": "markdown",
   "metadata": {},
   "source": [
    "#### Medication Columns"
   ]
  },
  {
   "cell_type": "markdown",
   "metadata": {},
   "source": [
    "We have some medication features that have 4 unique values : `No`, `Steady`, `Up`, and `Down`. We first convert them to numerical values using label encoding because the values are ordinal. Then we display the frequency of each value."
   ]
  },
  {
   "cell_type": "code",
   "execution_count": 212,
   "metadata": {},
   "outputs": [
    {
     "name": "stdout",
     "output_type": "stream",
     "text": [
      "Frequency of values in metformin column:\n",
      "0    81778\n",
      "2    18346\n",
      "3     1067\n",
      "1      575\n",
      "Name: metformin, dtype: int64\n",
      "Frequency of values in repaglinide column:\n",
      "0    100227\n",
      "2      1384\n",
      "3       110\n",
      "1        45\n",
      "Name: repaglinide, dtype: int64\n",
      "Frequency of values in nateglinide column:\n",
      "0    101063\n",
      "2       668\n",
      "3        24\n",
      "1        11\n",
      "Name: nateglinide, dtype: int64\n",
      "Frequency of values in chlorpropamide column:\n",
      "0    101680\n",
      "2        79\n",
      "3         6\n",
      "1         1\n",
      "Name: chlorpropamide, dtype: int64\n",
      "Frequency of values in glimepiride column:\n",
      "0    96575\n",
      "2     4670\n",
      "3      327\n",
      "1      194\n",
      "Name: glimepiride, dtype: int64\n",
      "Frequency of values in acetohexamide column:\n",
      "0    101765\n",
      "2         1\n",
      "Name: acetohexamide, dtype: int64\n",
      "Frequency of values in glipizide column:\n",
      "0    89080\n",
      "2    11356\n",
      "3      770\n",
      "1      560\n",
      "Name: glipizide, dtype: int64\n",
      "Frequency of values in glyburide column:\n",
      "0    91116\n",
      "2     9274\n",
      "3      812\n",
      "1      564\n",
      "Name: glyburide, dtype: int64\n",
      "Frequency of values in tolbutamide column:\n",
      "0    101743\n",
      "2        23\n",
      "Name: tolbutamide, dtype: int64\n",
      "Frequency of values in pioglitazone column:\n",
      "0    94438\n",
      "2     6976\n",
      "3      234\n",
      "1      118\n",
      "Name: pioglitazone, dtype: int64\n",
      "Frequency of values in rosiglitazone column:\n",
      "0    95401\n",
      "2     6100\n",
      "3      178\n",
      "1       87\n",
      "Name: rosiglitazone, dtype: int64\n",
      "Frequency of values in acarbose column:\n",
      "0    101458\n",
      "2       295\n",
      "3        10\n",
      "1         3\n",
      "Name: acarbose, dtype: int64\n",
      "Frequency of values in miglitol column:\n",
      "0    101728\n",
      "2        31\n",
      "1         5\n",
      "3         2\n",
      "Name: miglitol, dtype: int64\n",
      "Frequency of values in troglitazone column:\n",
      "0    101763\n",
      "2         3\n",
      "Name: troglitazone, dtype: int64\n",
      "Frequency of values in tolazamide column:\n",
      "0    101727\n",
      "2        38\n",
      "3         1\n",
      "Name: tolazamide, dtype: int64\n",
      "Frequency of values in examide column:\n",
      "0    101766\n",
      "Name: examide, dtype: int64\n",
      "Frequency of values in citoglipton column:\n",
      "0    101766\n",
      "Name: citoglipton, dtype: int64\n",
      "Frequency of values in insulin column:\n",
      "0    47383\n",
      "2    30849\n",
      "1    12218\n",
      "3    11316\n",
      "Name: insulin, dtype: int64\n",
      "Frequency of values in glyburide-metformin column:\n",
      "0    101060\n",
      "2       692\n",
      "3         8\n",
      "1         6\n",
      "Name: glyburide-metformin, dtype: int64\n",
      "Frequency of values in glipizide-metformin column:\n",
      "0    101753\n",
      "2        13\n",
      "Name: glipizide-metformin, dtype: int64\n",
      "Frequency of values in glimepiride-pioglitazone column:\n",
      "0    101765\n",
      "2         1\n",
      "Name: glimepiride-pioglitazone, dtype: int64\n",
      "Frequency of values in metformin-rosiglitazone column:\n",
      "0    101764\n",
      "2         2\n",
      "Name: metformin-rosiglitazone, dtype: int64\n",
      "Frequency of values in metformin-pioglitazone column:\n",
      "0    101765\n",
      "2         1\n",
      "Name: metformin-pioglitazone, dtype: int64\n"
     ]
    }
   ],
   "source": [
    "medication_features = ['metformin', 'repaglinide', 'nateglinide', 'chlorpropamide', \n",
    "                          'glimepiride', 'acetohexamide', 'glipizide', 'glyburide', \n",
    "                          'tolbutamide', 'pioglitazone', 'rosiglitazone', 'acarbose', \n",
    "                          'miglitol', 'troglitazone', 'tolazamide', 'examide', 'citoglipton', \n",
    "                          'insulin', 'glyburide-metformin', 'glipizide-metformin', \n",
    "                          'glimepiride-pioglitazone', 'metformin-rosiglitazone', \n",
    "                          'metformin-pioglitazone']\n",
    "medication_features_mapping = {k: {'No': 0, 'Down': 1, 'Steady': 2, 'Up': 3} for k in medication_features}\n",
    "\n",
    "for feature in medication_features:\n",
    "    diabetes_df[feature] = diabetes_df[feature].map(medication_features_mapping[feature])\n",
    "\n",
    "for feature in medication_features:\n",
    "    print(f\"Frequency of values in {feature} column:\")\n",
    "    print(diabetes_df[feature].value_counts())"
   ]
  },
  {
   "cell_type": "markdown",
   "metadata": {},
   "source": [
    "As we can see, In columns `chlorpropamide`, `glyburide-metformin`, and `acarbose` the value for `Down` , `Up` and `Steady` are not frequent comparing to `No` value so we use binary values for them: 0 for no description and 1 for any description.  \n",
    "Also in columns `acetohexamide`, `tolbutamide`, `miglitol`, `tolazamide`, `glipizide-metformin`, `glimepiride-pioglitazone`, `metformin-rosiglitazone`, and `metformin-pioglitazone` the value for columns that are not `No` are so little that we can drop the columns."
   ]
  },
  {
   "cell_type": "code",
   "execution_count": 213,
   "metadata": {},
   "outputs": [],
   "source": [
    "replacement_mapping = {1: 1, 2: 1, 3: 1}\n",
    "diabetes_df[['chlorpropamide', 'acarbose', 'glyburide-metformin']] = diabetes_df[['chlorpropamide', 'acarbose', 'glyburide-metformin']].replace(replacement_mapping)\n",
    "\n",
    "cols_with_not_frequnet_values = ['acetohexamide', 'tolbutamide', 'troglitazone', 'miglitol', 'tolazamide', 'glipizide-metformin', \n",
    "                                 'glimepiride-pioglitazone', 'metformin-rosiglitazone', 'metformin-pioglitazone']\n",
    "diabetes_df.drop(cols_with_not_frequnet_values, axis=1, inplace=True)"
   ]
  },
  {
   "cell_type": "markdown",
   "metadata": {},
   "source": [
    "#### Age column"
   ]
  },
  {
   "cell_type": "code",
   "execution_count": 214,
   "metadata": {},
   "outputs": [],
   "source": [
    "age_mapping = { '[0-10)': 0, '[10-20)': 1, '[20-30)': 2, '[30-40)': 3, '[40-50)': 4, '[50-60)': 5, '[60-70)': 6, '[70-80)': 7, '[80-90)': 8, '[90-100)': 9 }\n",
    "diabetes_df['age'] = diabetes_df['age'].map(age_mapping)"
   ]
  },
  {
   "cell_type": "markdown",
   "metadata": {},
   "source": [
    "In this part we replace the values that their frequency is less than 50 with `'other'` in order to reduce the number of unique values. We also remove the columns that has less than 3 unique values and one of them has a frequency of less than 50."
   ]
  },
  {
   "cell_type": "code",
   "execution_count": 215,
   "metadata": {},
   "outputs": [],
   "source": [
    "categorical_columns = diabetes_df.select_dtypes(include='object').columns\n",
    "for col in categorical_columns:\n",
    "    value_counts = diabetes_df[col].value_counts()\n",
    "    values_to_label = value_counts[value_counts < 0.0005 * diabetes_df[col].shape[0]].index\n",
    "    diabetes_df[col] = diabetes_df[col].apply(lambda x: 'other' if x in values_to_label else x)\n"
   ]
  },
  {
   "cell_type": "code",
   "execution_count": 216,
   "metadata": {},
   "outputs": [
    {
     "name": "stdout",
     "output_type": "stream",
     "text": [
      "Number of unique values in each column:\n",
      "race: 5\n",
      "gender: 2\n",
      "admission_type_id: 4\n",
      "discharge_disposition_id: 16\n",
      "admission_source_id: 8\n",
      "change: 2\n",
      "diabetesMed: 2\n",
      "readmitted: 3\n"
     ]
    }
   ],
   "source": [
    "categorical_columns = diabetes_df.select_dtypes(include='object').columns\n",
    "print('Number of unique values in each column:')\n",
    "for column in categorical_columns:\n",
    "    print(f\"{column}: {diabetes_df[column].nunique()}\")\n",
    "    \n",
    "unique_value_columns = diabetes_df.columns[diabetes_df.nunique() == 1]\n",
    "diabetes_df.drop(unique_value_columns, axis=1, inplace=True)"
   ]
  },
  {
   "cell_type": "code",
   "execution_count": 217,
   "metadata": {},
   "outputs": [],
   "source": [
    "X_train = diabetes_df.drop(columns=['readmitted'])\n",
    "y_train = diabetes_df['readmitted']"
   ]
  },
  {
   "cell_type": "markdown",
   "metadata": {},
   "source": [
    "#### Convert Categorical Columns to Numerical (One-Hot Encoding or Label Encoding) "
   ]
  },
  {
   "cell_type": "markdown",
   "metadata": {},
   "source": [
    "In this part we convert the categorical columns to numerical using one-hot encoding because this type of encoding does not assume that the features are ordinal. In our case the remaining categorical features are nor ordinal so we use one-hot encoding."
   ]
  },
  {
   "cell_type": "code",
   "execution_count": 218,
   "metadata": {},
   "outputs": [],
   "source": [
    "\n",
    "# categorical_columns = X_train.select_dtypes(include='object').columns\n",
    "# label_encode_columns = ['admission_type_id', 'discharge_disposition_id', 'admission_source_id']\n",
    "# one_hot_columns = []\n",
    "# for col in categorical_columns:\n",
    "#     if col not in label_encode_columns:\n",
    "#         one_hot_columns.append(col)\n",
    "\n",
    "# one_hot_encoder = OneHotEncoder(sparse=False, drop='first')\n",
    "# one_hot_encoded = one_hot_encoder.fit_transform(X_train[one_hot_columns])\n",
    "\n",
    "# label_encoded_df = diabetes_df[categorical_columns].apply(LabelEncoder().fit_transform)\n",
    "\n",
    "# X_train.drop(columns=one_hot_columns + label_encode_columns, inplace=True)\n",
    "# X_train = pd.concat([X_train, label_encoded_df], axis=1)\n",
    "# one_hot_encoded_df = pd.DataFrame(one_hot_encoded, columns=one_hot_encoder.get_feature_names_out(one_hot_columns))\n",
    "\n",
    "# label_encoder = LabelEncoder()\n",
    "# for column in categorical_columns:\n",
    "#     X_train[column] = label_encoder.fit_transform(X_train[column])"
   ]
  },
  {
   "cell_type": "code",
   "execution_count": 219,
   "metadata": {},
   "outputs": [],
   "source": [
    "def encode_onehot(df, column):\n",
    "    onehot = pd.get_dummies(df[column], prefix=column)\n",
    "    df = pd.concat([df, onehot], axis=1)\n",
    "    df = df.drop(column, axis=1)\n",
    "    return df"
   ]
  },
  {
   "cell_type": "code",
   "execution_count": 220,
   "metadata": {},
   "outputs": [],
   "source": [
    "\n",
    "categorical_columns = X_train.select_dtypes(include='object').columns\n",
    "\n",
    "for column in categorical_columns:\n",
    "    X_train = encode_onehot(X_train, column)\n",
    "\n"
   ]
  },
  {
   "cell_type": "code",
   "execution_count": 221,
   "metadata": {},
   "outputs": [
    {
     "name": "stdout",
     "output_type": "stream",
     "text": [
      "<class 'pandas.core.frame.DataFrame'>\n",
      "Int64Index: 101766 entries, 0 to 101765\n",
      "Data columns (total 33 columns):\n",
      " #   Column                    Non-Null Count   Dtype\n",
      "---  ------                    --------------   -----\n",
      " 0   encounter_id              101766 non-null  int64\n",
      " 1   patient_nbr               101766 non-null  int64\n",
      " 2   age                       101766 non-null  int64\n",
      " 3   time_in_hospital          101766 non-null  int64\n",
      " 4   num_lab_procedures        101766 non-null  int64\n",
      " 5   num_procedures            101766 non-null  int64\n",
      " 6   num_medications           101766 non-null  int64\n",
      " 7   number_outpatient         101766 non-null  int64\n",
      " 8   number_emergency          101766 non-null  int64\n",
      " 9   number_inpatient          101766 non-null  int64\n",
      " 10  diag_1                    101766 non-null  int64\n",
      " 11  diag_2                    101766 non-null  int64\n",
      " 12  diag_3                    101766 non-null  int64\n",
      " 13  number_diagnoses          101766 non-null  int64\n",
      " 14  metformin                 101766 non-null  int64\n",
      " 15  repaglinide               101766 non-null  int64\n",
      " 16  nateglinide               101766 non-null  int64\n",
      " 17  chlorpropamide            101766 non-null  int64\n",
      " 18  glimepiride               101766 non-null  int64\n",
      " 19  glipizide                 101766 non-null  int64\n",
      " 20  glyburide                 101766 non-null  int64\n",
      " 21  pioglitazone              101766 non-null  int64\n",
      " 22  rosiglitazone             101766 non-null  int64\n",
      " 23  acarbose                  101766 non-null  int64\n",
      " 24  insulin                   101766 non-null  int64\n",
      " 25  glyburide-metformin       101766 non-null  int64\n",
      " 26  race                      101766 non-null  int64\n",
      " 27  gender                    101766 non-null  int64\n",
      " 28  admission_type_id         101766 non-null  int64\n",
      " 29  discharge_disposition_id  101766 non-null  int64\n",
      " 30  admission_source_id       101766 non-null  int64\n",
      " 31  change                    101766 non-null  int64\n",
      " 32  diabetesMed               101766 non-null  int64\n",
      "dtypes: int64(33)\n",
      "memory usage: 26.4 MB\n"
     ]
    }
   ],
   "source": [
    "X_train.info()"
   ]
  },
  {
   "cell_type": "markdown",
   "metadata": {},
   "source": [
    "The columns `encounter_id` and `patient_nbr` are dropped because they are either unique for each row or does not effect the result and do not provide any information."
   ]
  },
  {
   "cell_type": "code",
   "execution_count": 222,
   "metadata": {},
   "outputs": [],
   "source": [
    "X_train.drop(columns=['encounter_id', 'patient_nbr'], inplace=True)"
   ]
  },
  {
   "cell_type": "markdown",
   "metadata": {},
   "source": [
    "### Standardizing the Data"
   ]
  },
  {
   "cell_type": "markdown",
   "metadata": {},
   "source": [
    "We standardize the data using `StandardScaler` in order to have zero mean and unit variance. We should standardize the data before applying PCA because PCA is sensitive to the scale of the data."
   ]
  },
  {
   "cell_type": "code",
   "execution_count": 223,
   "metadata": {},
   "outputs": [],
   "source": [
    "scaler = StandardScaler()\n",
    "X_train_standardized= scaler.fit_transform(X_train)"
   ]
  },
  {
   "cell_type": "markdown",
   "metadata": {},
   "source": [
    "## Dimensionality Reduction"
   ]
  },
  {
   "cell_type": "markdown",
   "metadata": {},
   "source": [
    "### Principal Component Analysis (PCA)"
   ]
  },
  {
   "cell_type": "markdown",
   "metadata": {},
   "source": [
    "PCA is a linear dimensionality reduction technique that can be utilized for extracting information from a high-dimensional space by projecting it into a lower-dimensional sub-space. It tries to preserve the essential parts that have more variation of the data and remove the non-essential parts with fewer variation.  \n",
    "We set the `n_components` parameter to 0.9 to keep the minimum number of principal components that explain 90% of the variance. We also set the `random_state` to 42 for reproducibility. After fitting the PCA model to the data, we transform the data into the new space.  \n",
    "`pca.components_[0].argsort()[::-1]` returns the indices of the features sorted in descending order based on their loadings (or weights) in the first principal component. `X_train.columns[...]` uses these indices to get the names of the columns in the sorted order."
   ]
  },
  {
   "cell_type": "code",
   "execution_count": 224,
   "metadata": {},
   "outputs": [
    {
     "name": "stdout",
     "output_type": "stream",
     "text": [
      "diabetesMed: 0.43405288767822636\n",
      "num_medications: 0.384227952200642\n",
      "insulin: 0.36178139038479246\n",
      "time_in_hospital: 0.2877198756402041\n",
      "number_diagnoses: 0.20297579140401695\n",
      "num_lab_procedures: 0.19485212810327376\n",
      "metformin: 0.18274482309244636\n",
      "glipizide: 0.13221097748540997\n",
      "pioglitazone: 0.13151241236803465\n",
      "rosiglitazone: 0.12410386750033914\n",
      "num_procedures: 0.12091782151543559\n",
      "discharge_disposition_id: 0.11886640385992613\n",
      "glyburide: 0.10291793661752296\n",
      "glimepiride: 0.09510550859933119\n",
      "number_inpatient: 0.07984680251250637\n",
      "repaglinide: 0.06780581126811279\n",
      "number_emergency: 0.06228579422603014\n",
      "age: 0.053516111938267906\n",
      "number_outpatient: 0.04741635825036254\n",
      "diag_2: 0.04259305284144136\n",
      "nateglinide: 0.04079152490650626\n",
      "diag_3: 0.03711296134156659\n",
      "acarbose: 0.0357792078753339\n",
      "race: 0.023421191804259337\n",
      "glyburide-metformin: 0.02059334490472661\n",
      "gender: 0.0011003657095523878\n",
      "admission_type_id: -0.005379845251879912\n",
      "chlorpropamide: -0.007363141861907038\n",
      "admission_source_id: -0.025931925535387725\n",
      "diag_1: -0.038617821202729614\n",
      "change: -0.4580942632792573\n"
     ]
    }
   ],
   "source": [
    "pca = PCA(n_components=0.5, random_state=42)\n",
    "X_reduced = pca.fit_transform(X_train_standardized)\n",
    "pca.explained_variance_ratio_\n",
    "X_reduced_df = pd.DataFrame(X_reduced, columns=[f'PC{i}' for i in range(1, X_reduced.shape[1] + 1)])\n",
    "\n",
    "selected_columns = X_train.columns[pca.components_[0].argsort()[::-1]]\n",
    "for col in selected_columns:\n",
    "    print(f\"{col}: {pca.components_[0][X_train.columns.get_loc(col)]}\")"
   ]
  },
  {
   "cell_type": "code",
   "execution_count": 225,
   "metadata": {},
   "outputs": [
    {
     "data": {
      "text/html": [
       "<div>\n",
       "<style scoped>\n",
       "    .dataframe tbody tr th:only-of-type {\n",
       "        vertical-align: middle;\n",
       "    }\n",
       "\n",
       "    .dataframe tbody tr th {\n",
       "        vertical-align: top;\n",
       "    }\n",
       "\n",
       "    .dataframe thead th {\n",
       "        text-align: right;\n",
       "    }\n",
       "</style>\n",
       "<table border=\"1\" class=\"dataframe\">\n",
       "  <thead>\n",
       "    <tr style=\"text-align: right;\">\n",
       "      <th></th>\n",
       "      <th>PC1</th>\n",
       "      <th>PC2</th>\n",
       "      <th>PC3</th>\n",
       "      <th>PC4</th>\n",
       "      <th>PC5</th>\n",
       "      <th>PC6</th>\n",
       "      <th>PC7</th>\n",
       "      <th>PC8</th>\n",
       "      <th>PC9</th>\n",
       "      <th>PC10</th>\n",
       "      <th>PC11</th>\n",
       "      <th>PC12</th>\n",
       "    </tr>\n",
       "  </thead>\n",
       "  <tbody>\n",
       "    <tr>\n",
       "      <th>0</th>\n",
       "      <td>-3.426025</td>\n",
       "      <td>-1.196711</td>\n",
       "      <td>-0.155023</td>\n",
       "      <td>-2.136982</td>\n",
       "      <td>0.263834</td>\n",
       "      <td>-0.150700</td>\n",
       "      <td>0.262896</td>\n",
       "      <td>-0.031086</td>\n",
       "      <td>-0.310110</td>\n",
       "      <td>0.632314</td>\n",
       "      <td>-0.471110</td>\n",
       "      <td>0.157485</td>\n",
       "    </tr>\n",
       "    <tr>\n",
       "      <th>1</th>\n",
       "      <td>0.988651</td>\n",
       "      <td>-1.268131</td>\n",
       "      <td>-1.081502</td>\n",
       "      <td>-3.020025</td>\n",
       "      <td>0.029112</td>\n",
       "      <td>0.241722</td>\n",
       "      <td>-0.197895</td>\n",
       "      <td>-0.317839</td>\n",
       "      <td>-0.294637</td>\n",
       "      <td>0.062691</td>\n",
       "      <td>0.123046</td>\n",
       "      <td>-0.110662</td>\n",
       "    </tr>\n",
       "    <tr>\n",
       "      <th>2</th>\n",
       "      <td>-1.081321</td>\n",
       "      <td>-0.913607</td>\n",
       "      <td>0.129710</td>\n",
       "      <td>-0.507882</td>\n",
       "      <td>2.911764</td>\n",
       "      <td>-0.015543</td>\n",
       "      <td>2.365866</td>\n",
       "      <td>0.708125</td>\n",
       "      <td>0.440726</td>\n",
       "      <td>-1.288939</td>\n",
       "      <td>-0.786533</td>\n",
       "      <td>0.316524</td>\n",
       "    </tr>\n",
       "    <tr>\n",
       "      <th>3</th>\n",
       "      <td>0.607847</td>\n",
       "      <td>-1.666635</td>\n",
       "      <td>-0.667745</td>\n",
       "      <td>-2.447817</td>\n",
       "      <td>-0.034741</td>\n",
       "      <td>1.037256</td>\n",
       "      <td>0.109027</td>\n",
       "      <td>-1.682752</td>\n",
       "      <td>-0.051685</td>\n",
       "      <td>0.155384</td>\n",
       "      <td>0.248146</td>\n",
       "      <td>-0.404741</td>\n",
       "    </tr>\n",
       "    <tr>\n",
       "      <th>4</th>\n",
       "      <td>-0.096169</td>\n",
       "      <td>-2.656833</td>\n",
       "      <td>-1.020518</td>\n",
       "      <td>-1.771169</td>\n",
       "      <td>-0.847064</td>\n",
       "      <td>1.929200</td>\n",
       "      <td>2.010622</td>\n",
       "      <td>-0.046926</td>\n",
       "      <td>-0.522809</td>\n",
       "      <td>0.381799</td>\n",
       "      <td>0.601664</td>\n",
       "      <td>-0.517577</td>\n",
       "    </tr>\n",
       "    <tr>\n",
       "      <th>...</th>\n",
       "      <td>...</td>\n",
       "      <td>...</td>\n",
       "      <td>...</td>\n",
       "      <td>...</td>\n",
       "      <td>...</td>\n",
       "      <td>...</td>\n",
       "      <td>...</td>\n",
       "      <td>...</td>\n",
       "      <td>...</td>\n",
       "      <td>...</td>\n",
       "      <td>...</td>\n",
       "      <td>...</td>\n",
       "    </tr>\n",
       "    <tr>\n",
       "      <th>101761</th>\n",
       "      <td>0.868034</td>\n",
       "      <td>-0.889984</td>\n",
       "      <td>-0.742135</td>\n",
       "      <td>-0.645418</td>\n",
       "      <td>-1.084578</td>\n",
       "      <td>-0.539736</td>\n",
       "      <td>0.309811</td>\n",
       "      <td>-0.043606</td>\n",
       "      <td>0.083746</td>\n",
       "      <td>-0.342711</td>\n",
       "      <td>-0.497199</td>\n",
       "      <td>-0.382954</td>\n",
       "    </tr>\n",
       "    <tr>\n",
       "      <th>101762</th>\n",
       "      <td>0.201483</td>\n",
       "      <td>0.964968</td>\n",
       "      <td>0.809216</td>\n",
       "      <td>-0.576229</td>\n",
       "      <td>1.199737</td>\n",
       "      <td>-0.347804</td>\n",
       "      <td>-0.985413</td>\n",
       "      <td>0.782070</td>\n",
       "      <td>0.732922</td>\n",
       "      <td>-1.182172</td>\n",
       "      <td>0.918379</td>\n",
       "      <td>0.186180</td>\n",
       "    </tr>\n",
       "    <tr>\n",
       "      <th>101763</th>\n",
       "      <td>0.837102</td>\n",
       "      <td>-0.395147</td>\n",
       "      <td>-1.469117</td>\n",
       "      <td>0.871955</td>\n",
       "      <td>-0.995663</td>\n",
       "      <td>0.561392</td>\n",
       "      <td>0.441201</td>\n",
       "      <td>-1.531453</td>\n",
       "      <td>0.239207</td>\n",
       "      <td>0.198906</td>\n",
       "      <td>-0.649669</td>\n",
       "      <td>-0.848736</td>\n",
       "    </tr>\n",
       "    <tr>\n",
       "      <th>101764</th>\n",
       "      <td>3.153904</td>\n",
       "      <td>0.821416</td>\n",
       "      <td>-0.594511</td>\n",
       "      <td>1.127868</td>\n",
       "      <td>-0.225378</td>\n",
       "      <td>2.187140</td>\n",
       "      <td>0.095295</td>\n",
       "      <td>1.955986</td>\n",
       "      <td>-1.178171</td>\n",
       "      <td>-2.547630</td>\n",
       "      <td>-0.553102</td>\n",
       "      <td>0.034257</td>\n",
       "    </tr>\n",
       "    <tr>\n",
       "      <th>101765</th>\n",
       "      <td>-2.369023</td>\n",
       "      <td>1.226583</td>\n",
       "      <td>0.566464</td>\n",
       "      <td>1.002150</td>\n",
       "      <td>-0.133588</td>\n",
       "      <td>0.913634</td>\n",
       "      <td>-0.000880</td>\n",
       "      <td>-1.364186</td>\n",
       "      <td>1.008355</td>\n",
       "      <td>-1.060058</td>\n",
       "      <td>-0.647846</td>\n",
       "      <td>-0.003997</td>\n",
       "    </tr>\n",
       "  </tbody>\n",
       "</table>\n",
       "<p>101766 rows × 12 columns</p>\n",
       "</div>"
      ],
      "text/plain": [
       "             PC1       PC2       PC3       PC4       PC5       PC6       PC7  \\\n",
       "0      -3.426025 -1.196711 -0.155023 -2.136982  0.263834 -0.150700  0.262896   \n",
       "1       0.988651 -1.268131 -1.081502 -3.020025  0.029112  0.241722 -0.197895   \n",
       "2      -1.081321 -0.913607  0.129710 -0.507882  2.911764 -0.015543  2.365866   \n",
       "3       0.607847 -1.666635 -0.667745 -2.447817 -0.034741  1.037256  0.109027   \n",
       "4      -0.096169 -2.656833 -1.020518 -1.771169 -0.847064  1.929200  2.010622   \n",
       "...          ...       ...       ...       ...       ...       ...       ...   \n",
       "101761  0.868034 -0.889984 -0.742135 -0.645418 -1.084578 -0.539736  0.309811   \n",
       "101762  0.201483  0.964968  0.809216 -0.576229  1.199737 -0.347804 -0.985413   \n",
       "101763  0.837102 -0.395147 -1.469117  0.871955 -0.995663  0.561392  0.441201   \n",
       "101764  3.153904  0.821416 -0.594511  1.127868 -0.225378  2.187140  0.095295   \n",
       "101765 -2.369023  1.226583  0.566464  1.002150 -0.133588  0.913634 -0.000880   \n",
       "\n",
       "             PC8       PC9      PC10      PC11      PC12  \n",
       "0      -0.031086 -0.310110  0.632314 -0.471110  0.157485  \n",
       "1      -0.317839 -0.294637  0.062691  0.123046 -0.110662  \n",
       "2       0.708125  0.440726 -1.288939 -0.786533  0.316524  \n",
       "3      -1.682752 -0.051685  0.155384  0.248146 -0.404741  \n",
       "4      -0.046926 -0.522809  0.381799  0.601664 -0.517577  \n",
       "...          ...       ...       ...       ...       ...  \n",
       "101761 -0.043606  0.083746 -0.342711 -0.497199 -0.382954  \n",
       "101762  0.782070  0.732922 -1.182172  0.918379  0.186180  \n",
       "101763 -1.531453  0.239207  0.198906 -0.649669 -0.848736  \n",
       "101764  1.955986 -1.178171 -2.547630 -0.553102  0.034257  \n",
       "101765 -1.364186  1.008355 -1.060058 -0.647846 -0.003997  \n",
       "\n",
       "[101766 rows x 12 columns]"
      ]
     },
     "metadata": {},
     "output_type": "display_data"
    }
   ],
   "source": [
    "display(X_reduced_df)"
   ]
  },
  {
   "cell_type": "markdown",
   "metadata": {},
   "source": [
    "The selected features are as follows:"
   ]
  },
  {
   "cell_type": "code",
   "execution_count": 228,
   "metadata": {},
   "outputs": [
    {
     "name": "stdout",
     "output_type": "stream",
     "text": [
      "Selected features:\n",
      "nateglinide\n",
      "chlorpropamide\n",
      "discharge_disposition_id\n",
      "number_outpatient\n",
      "gender\n",
      "insulin\n",
      "race\n",
      "age\n",
      "glipizide\n",
      "diabetesMed\n",
      "pioglitazone\n",
      "number_diagnoses\n",
      "glimepiride\n",
      "metformin\n",
      "diag_2\n",
      "change\n",
      "glyburide\n",
      "admission_source_id\n",
      "num_medications\n",
      "num_lab_procedures\n",
      "number_inpatient\n",
      "time_in_hospital\n",
      "num_procedures\n",
      "diag_3\n",
      "admission_type_id\n",
      "number_emergency\n",
      "diag_1\n",
      "rosiglitazone\n",
      "glyburide-metformin\n",
      "acarbose\n",
      "repaglinide\n"
     ]
    }
   ],
   "source": [
    "n_selected_components = pca.n_components_\n",
    "original_feature_names = X_train.columns\n",
    "selected_feature_indices = pca.components_[:n_selected_components].argsort()[-1:].flatten()\n",
    "selected_feature_names = [original_feature_names[i] for i in selected_feature_indices]\n",
    "\n",
    "print('Selected features:')\n",
    "for feature in selected_feature_names:\n",
    "    print(feature)\n"
   ]
  },
  {
   "cell_type": "markdown",
   "metadata": {},
   "source": [
    "## Unsupervised Learning"
   ]
  },
  {
   "cell_type": "markdown",
   "metadata": {},
   "source": [
    "Unsupervised learning is a type of machine learning that looks for previously undetected patterns in a data set with no pre-existing labels and with a minimum of human supervision. In contrast to supervised learning that usually makes use of human-labeled data, unsupervised learning, also known as self-organization allows for modeling of probability densities over inputs."
   ]
  },
  {
   "cell_type": "markdown",
   "metadata": {},
   "source": [
    "### K-Means Clustering"
   ]
  },
  {
   "cell_type": "markdown",
   "metadata": {},
   "source": [
    "#### Silhouette Score"
   ]
  },
  {
   "cell_type": "markdown",
   "metadata": {},
   "source": [
    "Silhouette score is the mean silhouette coefficient for all instances. An instance's silhouette coefficient is equal to $\\frac{(b - a)}{max(a, b)}$, where a is the mean distance to the other instances in the same cluster and b is the mean distance to the instances in the next closest cluster. The silhouette score ranges from -1 (worst) to 1 (best). A coefficient close to +1 indicates that the instance is well inside its own cluster and far from other clusters, while a coefficient close to 0 indicates that it is close to a cluster boundary, and a coefficient close to -1 indicates that the instance may have been assigned to the wrong cluster."
   ]
  },
  {
   "cell_type": "code",
   "execution_count": 105,
   "metadata": {},
   "outputs": [
    {
     "name": "stdout",
     "output_type": "stream",
     "text": [
      "Number of clusters: 2, WCSS: 2998122.2942563016, Silhouette score: 0.09997920297624781\n",
      "Number of clusters: 3, WCSS: 2771619.1888845884, Silhouette score: 0.1152774978743978\n",
      "Number of clusters: 4, WCSS: 2656242.5935580498, Silhouette score: 0.11110558010174526\n",
      "Number of clusters: 5, WCSS: 2575928.8535321816, Silhouette score: 0.1024529324351212\n",
      "Number of clusters: 6, WCSS: 2495677.060718513, Silhouette score: 0.08906288184557866\n",
      "Number of clusters: 7, WCSS: 2430996.584753492, Silhouette score: 0.0907910977235558\n",
      "Best number of clusters for KMeans: 3\n"
     ]
    }
   ],
   "source": [
    "from joblib import Parallel, delayed\n",
    "best_n_clusters = 1\n",
    "best_silhouette_score = -1\n",
    "wcss = []\n",
    "silhouette_scores = []\n",
    "range_n_clusters = range(2, 8)\n",
    "\n",
    "def compute_kmeans_silhouette(n_clusters, data):\n",
    "    kmeans = KMeans(n_clusters=n_clusters, random_state=42)\n",
    "    cluster_labels = kmeans.fit_predict(data)\n",
    "    silhouette_avg = silhouette_score(data, cluster_labels)\n",
    "    return (n_clusters, kmeans.inertia_, silhouette_avg)\n",
    "\n",
    "results = Parallel(n_jobs=-1)(delayed(compute_kmeans_silhouette)(n_clusters, X_reduced) for n_clusters in range_n_clusters)\n",
    "\n",
    "for n_clusters, inertia, silhouette_avg in results:\n",
    "    print(f\"Number of clusters: {n_clusters}, WCSS: {inertia}, Silhouette score: {silhouette_avg}\")\n",
    "    wcss.append(inertia)\n",
    "    silhouette_scores.append(silhouette_avg)\n",
    "    if silhouette_avg > best_silhouette_score:\n",
    "        best_silhouette_score = silhouette_avg\n",
    "        best_n_clusters = n_clusters\n",
    "\n",
    "print(f\"Best number of clusters for KMeans: {best_n_clusters}\")\n",
    "\n",
    "kmeans = KMeans(n_clusters=best_n_clusters, random_state=42)\n",
    "kmeans_labels = kmeans.fit_predict(X_reduced)"
   ]
  },
  {
   "cell_type": "code",
   "execution_count": 106,
   "metadata": {},
   "outputs": [
    {
     "data": {
      "image/png": "[encoded data removed]",
      "text/plain": [
       "<Figure size 432x288 with 1 Axes>"
      ]
     },
     "metadata": {
      "needs_background": "light"
     },
     "output_type": "display_data"
    }
   ],
   "source": [
    "plt.plot(range_n_clusters, silhouette_scores, marker='o')\n",
    "plt.xlabel('Number of Clusters')\n",
    "plt.xticks(range_n_clusters)\n",
    "plt.ylabel('Silhouette Score')\n",
    "plt.title('Silhouette Scores for KMeans')\n",
    "plt.show()"
   ]
  },
  {
   "cell_type": "markdown",
   "metadata": {},
   "source": [
    "As we can see the silhouette score is around 0 which is not a good score. This may be due to the high dimensionality of the data. We reduce the dimensionality of the data using PCA and applying 0.5 for the number of components percentage."
   ]
  },
  {
   "cell_type": "markdown",
   "metadata": {},
   "source": [
    "#### Elbow Method Plot"
   ]
  },
  {
   "cell_type": "markdown",
   "metadata": {},
   "source": [
    "The elbow method is a heuristic used to determine the optimal number of clusters in a dataset. The method consists of plotting the explained variation as a function of the number of clusters, and picking the elbow of the curve as the number of clusters to use. The explained variation is the percentage of variance that each of the principal components explains. WCSS stands for Within-Cluster Sum of Squares which is the sum of squares of the distances of each data point in all clusters to their respective centroids. The idea is to minimize WCSS."
   ]
  },
  {
   "cell_type": "code",
   "execution_count": 107,
   "metadata": {},
   "outputs": [
    {
     "data": {
      "image/png": "[encoded data removed]",
      "text/plain": [
       "<Figure size 432x288 with 1 Axes>"
      ]
     },
     "metadata": {
      "needs_background": "light"
     },
     "output_type": "display_data"
    }
   ],
   "source": [
    "plt.plot(range_n_clusters, wcss, marker='o')\n",
    "plt.title('Elbow Method')\n",
    "plt.xlabel('Number of Clusters')\n",
    "plt.ylabel('WCSS')\n",
    "plt.xticks(range_n_clusters)\n",
    "plt.show()"
   ]
  },
  {
   "cell_type": "markdown",
   "metadata": {},
   "source": [
    "As we can see from the elbow method plot, the optimal number of clusters seems to be 3."
   ]
  },
  {
   "cell_type": "markdown",
   "metadata": {},
   "source": [
    "### DBSCAN Clustering"
   ]
  },
  {
   "cell_type": "markdown",
   "metadata": {},
   "source": [
    "DBSCAN (Density-Based Spatial Clustering of Applications with Noise) is a clustering algorithm that groups together points that are closely packed. It is also able to identify points that are in low-density regions as outliers. The algorithm works by defining a minimum number of points (min_samples) and a maximum distance from a point for another point to be considered its neighbor (eps). Points that have at least min_samples neighbors within a distance of eps are considered as core points and form a cluster. Points that do not have enough neighbors but are close to a core point are considered as border points and are part of the same cluster as the core point. Points that are neither core nor border points are considered as noise."
   ]
  },
  {
   "cell_type": "code",
   "execution_count": 229,
   "metadata": {},
   "outputs": [],
   "source": [
    "pca = PCA(n_components=0.9, random_state=42)\n",
    "X_reduced = pca.fit_transform(X_train_standardized)\n",
    "pca.explained_variance_ratio_\n",
    "X_reduced_df = pd.DataFrame(X_reduced, columns=[f'PC{i}' for i in range(1, X_reduced.shape[1] + 1)])"
   ]
  },
  {
   "cell_type": "markdown",
   "metadata": {},
   "source": [
    "We use 0.9 for n_components in PCA to reduce the dimensionality of the data because the DBSCAN algorithm works better for it."
   ]
  },
  {
   "cell_type": "code",
   "execution_count": 230,
   "metadata": {},
   "outputs": [
    {
     "name": "stdout",
     "output_type": "stream",
     "text": [
      "eps: 0.3, min_samples: 2, Silhouette score: -0.44236891013913426\n",
      "eps: 0.3, min_samples: 3, Silhouette score: -0.30541008485522064\n",
      "eps: 0.3, min_samples: 5, Silhouette score: -0.1275496388686475\n",
      "eps: 0.5, min_samples: 2, Silhouette score: -0.5038342904748488\n",
      "eps: 0.5, min_samples: 3, Silhouette score: -0.40927169058817026\n",
      "eps: 0.5, min_samples: 5, Silhouette score: -0.3099339190368904\n",
      "eps: 0.5, min_samples: 7, Silhouette score: -0.22014072311849317\n",
      "eps: 1.0, min_samples: 2, Silhouette score: -0.49306939348231044\n",
      "eps: 1.0, min_samples: 3, Silhouette score: -0.48965428740841976\n",
      "eps: 1.0, min_samples: 5, Silhouette score: -0.4492377749160693\n",
      "eps: 1.0, min_samples: 7, Silhouette score: -0.4234986314827459\n",
      "Best silhouette score for DBSCAN: -0.13\n",
      "Optimal eps for DBSCAN: 0.30\n",
      "Optimal min_samples for DBSCAN: 5\n"
     ]
    }
   ],
   "source": [
    "eps_values = [0.3, 0.5, 1.0]\n",
    "min_samples_values = [2, 3, 5, 7]\n",
    "\n",
    "silhouette_scores = np.zeros((len(eps_values), len(min_samples_values)))\n",
    "\n",
    "for i, eps in enumerate(eps_values):\n",
    "    for j, min_samples in enumerate(min_samples_values):\n",
    "        dbscan = DBSCAN(eps=eps, min_samples=min_samples)\n",
    "        dbscan_labels = dbscan.fit_predict(X_reduced)\n",
    "        if len(np.unique(dbscan_labels)) > 1:\n",
    "            silhouette_scores[i, j] = silhouette_score(X_reduced, dbscan_labels)\n",
    "            print(f\"eps: {eps}, min_samples: {min_samples}, Silhouette score: {silhouette_scores[i, j]}\")\n",
    "        else:\n",
    "            silhouette_scores[i, j] = -1\n",
    "\n",
    "best_silhouette_score = np.max(silhouette_scores)\n",
    "best_eps_index = np.argmax(np.max(silhouette_scores, axis=1))\n",
    "best_min_samples_index = np.argmax(silhouette_scores[best_eps_index])\n",
    "best_eps = eps_values[best_eps_index]\n",
    "best_min_samples = min_samples_values[best_min_samples_index]\n",
    "\n",
    "print(f\"Best silhouette score for DBSCAN: {best_silhouette_score:.2f}\")\n",
    "print(f\"Optimal eps for DBSCAN: {best_eps:.2f}\")\n",
    "print(f\"Optimal min_samples for DBSCAN: {best_min_samples}\")"
   ]
  },
  {
   "cell_type": "code",
   "execution_count": 231,
   "metadata": {},
   "outputs": [
    {
     "data": {
      "image/png": "[encoded data removed]",
      "text/plain": [
       "<Figure size 720x504 with 2 Axes>"
      ]
     },
     "metadata": {
      "needs_background": "light"
     },
     "output_type": "display_data"
    }
   ],
   "source": [
    "import seaborn as sns\n",
    "plt.figure(figsize=(10, 7))\n",
    "sns.heatmap(silhouette_scores, xticklabels=min_samples_values, yticklabels=eps_values, annot=True, fmt=\".2f\", cmap=\"viridis\")\n",
    "plt.title(\"Silhouette Scores for DBSCAN with Different Parameters\")\n",
    "plt.xlabel(\"min_samples\")\n",
    "plt.ylabel(\"eps\")\n",
    "plt.show()"
   ]
  },
  {
   "cell_type": "markdown",
   "metadata": {},
   "source": [
    "As we can see from the above plot the optimal value for eps seems to be 0.3 and the optimal value for min_samples seems to be 5 which results in a silhouette score of -0.13. As we can see the silhouette score is negative which is not a good score and k-mean model works better than DBSCAN for this dataset."
   ]
  },
  {
   "cell_type": "markdown",
   "metadata": {},
   "source": [
    "## Questions"
   ]
  },
  {
   "cell_type": "markdown",
   "metadata": {},
   "source": [
    "**Question 1:** `What preprocessing steps did you perform on the dataset? Provide clear reasons for each decision made.`  \n",
    "- Mapping the Labels: We map the description of the admission_type_id, discharge_disposition_id, and admission_source_id to the corresponding integer values in order to be able to handle missing values later.\n",
    "- Handling Duplicate Rows: We check for duplicate rows in order to remove them. In this dataset, there are no duplicate rows.\n",
    "- Handling Missing Values: We replace `Not Mapped`, `Not Available`, `Unknown/Invalid`, `?`, and `None` values with `np.nan` in order to consider them as missing values. We also drop the columns with more than 30% missing values. We fill the other missing values with the most frequent value in each column because most of them have a high frequency. Handling missing values is necessary to ensure the algorithms can process the data without errors also if missing values are not handled properly, the model may learn incorrect patterns, leading to poor generalization and inaccurate predictions.\n",
    "- Encoding Categorical Columns: We count the number of unique values in each categorical column and drop the columns with only one unique value. We encode the categorical columns which were ordinal containing medication features and age column using label encoding. We also convert the remaining categorical columns to numerical using one-hot encoding. Encoding categorical columns is necessary because most machine learning algorithms require numerical input and output variables. Also, the model may interpret the ordinal values as having some kind of order or hierarchy.\n",
    "- Handling Outliers: We calculate the z-score of each column and replace the values that their z-score is more than 3 or less than -3 with the median of the column. We use replacing instead of removing the rows because the dataset has many columns and removing the rows may cause loss of information. Handling outliers is necessary because outliers can skew the results and make the model less accurate.\n",
    "- standardizing the data: We standardize the data using StandardScaler to ensure that each feature contributes equally to the distance computations. Standardizing the data is necessary because many machine learning algorithms perform better or converge faster when features are on a relatively similar scale and close to normally distributed."
   ]
  },
  {
   "cell_type": "markdown",
   "metadata": {},
   "source": [
    "**Question 2:** `What portion of the dataset did you retain during dimensionality reduction, and which variables were retained? Could you elaborate on the rationale behind this decision?`  \n",
    "During dimensionality reduction, the goal is to reduce the number of features or variables in a dataset while retaining as much information as possible. In this case, we used PCA to reduce the dimensionality of the dataset. We set the `n_components` parameter to 0.9 to keep the minimum number of principal components that explain 90% of the variance. The rationale behind this decision is to reduce the dimensionality of the dataset while retaining most of the variance in the data. The retained variables are the principal components that explain the most variance in the data. In this case, we retained variables after dimensionality reduction which are shown in the previous code cell."
   ]
  },
  {
   "cell_type": "markdown",
   "metadata": {},
   "source": [
    "**Question 3:** `How can we determine the optimal number of clusters in K-Means?`   \n",
    "There are several methods to determine the optimal number of clusters:\n",
    "- Elbow Method: The Elbow Method is a heuristic method used to estimate the optimal number of clusters in a dataset. It works by plotting the within-cluster sum of squares (WCSS) against the number of clusters. The optimal number of clusters is the point where the rate of decrease in WCSS slows down, forming an \"elbow\" in the plot.\n",
    "- Silhouette Score: The Silhouette Score is a metric used to evaluate the quality of clusters created by a clustering algorithm. It measures how similar an instance is to its own cluster compared to other clusters. The Silhouette Score ranges from -1 to 1, where a higher score indicates better-defined clusters. The optimal number of clusters is the one that maximizes the Silhouette Score. We used this method to determine the optimal number of clusters in K-Means in this notebook.\n",
    "- Gap Statistics: Gap Statistics is another method used to estimate the optimal number of clusters. It compares the within-cluster variation for different numbers of clusters with their expected values under null reference distribution of the data. The optimal number of clusters is the one that maximizes the gap statistic.\n",
    "- Davies-Bouldin Index: The Davies-Bouldin Index evaluates the average similarity ratio of each cluster with the cluster that is most similar to it. Lower values indicate better clustering."
   ]
  },
  {
   "cell_type": "markdown",
   "metadata": {},
   "source": [
    "**Question 4:** `How can we determine the optimal epsilon value and minPts in DBSCAN?`  \n",
    "Determining the optimal epsilon value and minPts in DBSCAN can be done using the following methods:\n",
    "- Silhouette Score: The Silhouette Score can be used to evaluate the quality of clusters created by DBSCAN. It measures how similar an instance is to its own cluster compared to other clusters. The optimal epsilon value and minPts are the ones that maximize the Silhouette Score.\n",
    "- K-Distance Graph: Compute the distance to the k-nearest neighbor for each point and plot them sorted in ascending order. The optimal eps value often corresponds to the \"knee\" or elbow point in the graph.\n",
    "- Reachability Plot: Plot the points in the dataset sorted by their reachability distance. The point where the reachability plot exhibits a significant increase indicates a suitable eps value. The reachability score is the distance between a point and its k-nearest neighbor."
   ]
  },
  {
   "cell_type": "markdown",
   "metadata": {},
   "source": [
    "**Question 5:** `When would you recommend using K-Means, and when would you suggest using DBSCAN instead?`  \n",
    "We use K-Means when: \n",
    "- The dataset is large and clusters are spherical and similar in size.\n",
    "- The number of clusters is known and fixed.\n",
    "- The speed and scalability are important.\n",
    "Customer segmentation in marketing where you expect roughly spherical clusters representing different customer types is a good example for using K-Means. \n",
    "\n",
    "We use DBSCAN when:\n",
    "- The clusters are irregular in shape and vary in density.\n",
    "- The number of clusters is not known.\n",
    "- The data is not too high-dimensional.\n",
    "Identifying geographic regions with different population densities or finding clusters in spatial data with noise, like star formation in astronomy is a good example for using DBSCAN."
   ]
  }
 ],
 "metadata": {
  "kernelspec": {
   "display_name": "Python 3",
   "language": "python",
   "name": "python3"
  },
  "language_info": {
   "codemirror_mode": {
    "name": "ipython",
    "version": 3
   },
   "file_extension": ".py",
   "mimetype": "text/x-python",
   "name": "python",
   "nbconvert_exporter": "python",
   "pygments_lexer": "ipython3",
   "version": "3.10.4"
  },
  "orig_nbformat": 4
 },
 "nbformat": 4,
 "nbformat_minor": 2
}
