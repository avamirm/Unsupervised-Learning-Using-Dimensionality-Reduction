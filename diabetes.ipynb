{
 "cells": [
  {
   "cell_type": "markdown",
   "metadata": {},
   "source": [
    "# Unsupervised Learning & Dimensionality Reduction Using Diabetes Dataset"
   ]
  },
  {
   "cell_type": "markdown",
   "metadata": {},
   "source": [
    "In 2014, some researchers published an article called \"Impact of c1HbA Measurement on Hospital Readmission Rates: Analysis of 70,000 Clinical Database Patient Records.\" The dataset used in this notebook is a subset of the dataset used in the article containing 50 columns. The columns are as follows:\n",
    "- encounter_id: Unique identifier of an encounter\n",
    "- patient_nbr: Unique identifier of a patient\n",
    "- race: race of each patient including Asian, African American, ...\n",
    "- gender: gender of each patient\n",
    "- age: age of each patient grouped in 10-year intervals: (0, 10), (10, 20), ..., (90, 100)\n",
    "- weight: weight in pounds\n",
    "- admission_type_id: Integer identifier corresponding to 9 distinct values, for example, emergency, urgent, elective, newborn, and not available\n",
    "- discharge_disposition_id: Integer identifier corresponding to 29 distinct values, for example, discharged to home, expired, and not available\n",
    "- admission_source_id: Integer identifier corresponding to 21 distinct values, for example, physician referral, emergency room, and transfer from a hospital\n",
    "- time_in_hospital: Integer number of days between admission and discharge\n",
    "- payer_code: Integer identifier corresponding to 23 distinct values, for example, Blue Cross/Blue Shield, Medicare, and self-pay\n",
    "- medical_specialty: Integer identifier of a specialty of the admitting physician, corresponding to 84 distinct values, for example, cardiology, internal medicine, family/general practice, and surgeon\n",
    "- num_lab_procedures: Number of lab tests performed during the encounter\n",
    "- num_procedures: Number of procedures (other than lab tests) performed during the encounter\n",
    "- num_medications: Number of distinct generic names administered during the encounter\n",
    "- number_outpatient: Number of outpatient visits of the patient in the year preceding the encounter\n",
    "- number_emergency: Number of emergency visits of the patient in the year preceding the encounter\n",
    "- number_inpatient: Number of inpatient visits of the patient in the year preceding the encounter\n",
    "- diag_1: The primary diagnosis (coded as first three digits of ICD9); 848 distinct values\n",
    "- diag_2: Secondary diagnosis (coded as first three digits of ICD9); 923 distinct values\n",
    "- diag_3: Additional secondary diagnosis (coded as first three digits of ICD9); 954 distinct values\n",
    "- number_diagnoses: Number of diagnoses entered to the system\n",
    "- max_glu_serum: Indicates the range of the result or if the test was not taken. Values: \"None\", \">200\", \"normal\", \">300\"\n",
    "- A1Cresult: Indicates the range of the result or if the test was not taken. Values: \"None\", \">7\", \"normal\", \">8\"\n",
    "- change: Indicates if there was a change in diabetic medications (either dosage or generic name). Values: \"change\" and \"no change\"\n",
    "- diabetesMed: Indicates if there was any diabetic medication prescribed. Values: \"yes\" and \"no\"\n",
    "- readmitted: Days to inpatient readmission. Values: \"<30\" if the patient was readmitted in less than 30 days, \">30\" if the patient was readmitted in more than 30 days, and \"No\" if the patient was not readmitted"
   ]
  },
  {
   "cell_type": "markdown",
   "metadata": {},
   "source": [
    "Import the necessary libraries and load the dataset."
   ]
  },
  {
   "cell_type": "code",
   "execution_count": 87,
   "metadata": {},
   "outputs": [],
   "source": [
    "import pandas as pd\n",
    "import numpy as np\n",
    "from sklearn.decomposition import PCA\n",
    "import io\n",
    "from sklearn.preprocessing import StandardScaler\n",
    "from sklearn.preprocessing import OneHotEncoder, LabelEncoder\n",
    "from sklearn.cluster import KMeans, DBSCAN\n",
    "from sklearn.metrics import silhouette_score\n",
    "import matplotlib.pyplot as plt"
   ]
  },
  {
   "cell_type": "code",
   "execution_count": 88,
   "metadata": {},
   "outputs": [],
   "source": [
    "DATA_FILE_PATH = 'dataset_diabetes/diabetic_data.csv'\n",
    "MAPPING_FILE_PATH = 'dataset_diabetes/IDs_mapping.csv'"
   ]
  },
  {
   "cell_type": "code",
   "execution_count": 89,
   "metadata": {},
   "outputs": [],
   "source": [
    "diabetes_df = pd.read_csv(DATA_FILE_PATH)"
   ]
  },
  {
   "cell_type": "markdown",
   "metadata": {},
   "source": [
    "## Preprocessing"
   ]
  },
  {
   "cell_type": "code",
   "execution_count": 90,
   "metadata": {},
   "outputs": [
    {
     "name": "stdout",
     "output_type": "stream",
     "text": [
      "<class 'pandas.core.frame.DataFrame'>\n",
      "RangeIndex: 101766 entries, 0 to 101765\n",
      "Data columns (total 50 columns):\n",
      " #   Column                    Non-Null Count   Dtype \n",
      "---  ------                    --------------   ----- \n",
      " 0   encounter_id              101766 non-null  int64 \n",
      " 1   patient_nbr               101766 non-null  int64 \n",
      " 2   race                      101766 non-null  object\n",
      " 3   gender                    101766 non-null  object\n",
      " 4   age                       101766 non-null  object\n",
      " 5   weight                    101766 non-null  object\n",
      " 6   admission_type_id         101766 non-null  int64 \n",
      " 7   discharge_disposition_id  101766 non-null  int64 \n",
      " 8   admission_source_id       101766 non-null  int64 \n",
      " 9   time_in_hospital          101766 non-null  int64 \n",
      " 10  payer_code                101766 non-null  object\n",
      " 11  medical_specialty         101766 non-null  object\n",
      " 12  num_lab_procedures        101766 non-null  int64 \n",
      " 13  num_procedures            101766 non-null  int64 \n",
      " 14  num_medications           101766 non-null  int64 \n",
      " 15  number_outpatient         101766 non-null  int64 \n",
      " 16  number_emergency          101766 non-null  int64 \n",
      " 17  number_inpatient          101766 non-null  int64 \n",
      " 18  diag_1                    101766 non-null  object\n",
      " 19  diag_2                    101766 non-null  object\n",
      " 20  diag_3                    101766 non-null  object\n",
      " 21  number_diagnoses          101766 non-null  int64 \n",
      " 22  max_glu_serum             101766 non-null  object\n",
      " 23  A1Cresult                 101766 non-null  object\n",
      " 24  metformin                 101766 non-null  object\n",
      " 25  repaglinide               101766 non-null  object\n",
      " 26  nateglinide               101766 non-null  object\n",
      " 27  chlorpropamide            101766 non-null  object\n",
      " 28  glimepiride               101766 non-null  object\n",
      " 29  acetohexamide             101766 non-null  object\n",
      " 30  glipizide                 101766 non-null  object\n",
      " 31  glyburide                 101766 non-null  object\n",
      " 32  tolbutamide               101766 non-null  object\n",
      " 33  pioglitazone              101766 non-null  object\n",
      " 34  rosiglitazone             101766 non-null  object\n",
      " 35  acarbose                  101766 non-null  object\n",
      " 36  miglitol                  101766 non-null  object\n",
      " 37  troglitazone              101766 non-null  object\n",
      " 38  tolazamide                101766 non-null  object\n",
      " 39  examide                   101766 non-null  object\n",
      " 40  citoglipton               101766 non-null  object\n",
      " 41  insulin                   101766 non-null  object\n",
      " 42  glyburide-metformin       101766 non-null  object\n",
      " 43  glipizide-metformin       101766 non-null  object\n",
      " 44  glimepiride-pioglitazone  101766 non-null  object\n",
      " 45  metformin-rosiglitazone   101766 non-null  object\n",
      " 46  metformin-pioglitazone    101766 non-null  object\n",
      " 47  change                    101766 non-null  object\n",
      " 48  diabetesMed               101766 non-null  object\n",
      " 49  readmitted                101766 non-null  object\n",
      "dtypes: int64(13), object(37)\n",
      "memory usage: 38.8+ MB\n"
     ]
    }
   ],
   "source": [
    "diabetes_df.info()"
   ]
  },
  {
   "cell_type": "markdown",
   "metadata": {},
   "source": [
    "### Mapping the Labels"
   ]
  },
  {
   "cell_type": "markdown",
   "metadata": {},
   "source": [
    "In this part we read the mapping file and map the labels to integers. We remove the first space in values if exists."
   ]
  },
  {
   "cell_type": "code",
   "execution_count": 91,
   "metadata": {},
   "outputs": [],
   "source": [
    "with open(MAPPING_FILE_PATH, 'r') as file:\n",
    "    content = file.read()\n",
    "sections = content.strip().split('\\n,\\n')\n",
    "\n",
    "mappings = {}\n",
    "for section in sections:\n",
    "    section_df = pd.read_csv(io.StringIO(section))\n",
    "    column_name = section_df.columns[0]\n",
    "    mappings[column_name] = dict(zip(section_df[column_name], section_df['description']))\n",
    "\n",
    "admission_type_mapping = mappings['admission_type_id']\n",
    "discharge_disposition_mapping = mappings['discharge_disposition_id']\n",
    "admission_source_mapping = mappings['admission_source_id']\n",
    "\n",
    "cleaned_admission_type_mapping = {k: v.strip() if isinstance(v, str) else v for k, v in admission_type_mapping.items()}\n",
    "cleaned_discharge_disposition_mapping = {k: v.strip() if isinstance(v, str) else v for k, v in discharge_disposition_mapping.items()}\n",
    "cleaned_admission_source_mapping = {k: v.strip() if isinstance(v, str) else v for k, v in admission_source_mapping.items()}\n",
    "\n",
    "diabetes_df['admission_type_id'] = diabetes_df['admission_type_id'].map(cleaned_admission_type_mapping)\n",
    "diabetes_df['discharge_disposition_id'] = diabetes_df['discharge_disposition_id'].map(cleaned_discharge_disposition_mapping)\n",
    "diabetes_df['admission_source_id'] = diabetes_df['admission_source_id'].map(cleaned_admission_source_mapping)\n"
   ]
  },
  {
   "cell_type": "markdown",
   "metadata": {},
   "source": [
    "### Checking for Duplicate Rows"
   ]
  },
  {
   "cell_type": "markdown",
   "metadata": {},
   "source": [
    "We check for duplicate rows and remove them. In this dataset, there are no duplicate rows."
   ]
  },
  {
   "cell_type": "code",
   "execution_count": 92,
   "metadata": {},
   "outputs": [
    {
     "name": "stdout",
     "output_type": "stream",
     "text": [
      "Number of rows before dropping duplicates: 101766\n",
      "Number of rows after dropping duplicates: 101766\n"
     ]
    }
   ],
   "source": [
    "print('Number of rows before dropping duplicates:', diabetes_df.shape[0])\n",
    "diabetes_df.drop_duplicates(inplace=True)\n",
    "print('Number of rows after dropping duplicates:', diabetes_df.shape[0])\n"
   ]
  },
  {
   "cell_type": "markdown",
   "metadata": {},
   "source": [
    "### Handling Missing Values"
   ]
  },
  {
   "cell_type": "markdown",
   "metadata": {},
   "source": [
    "We replace `Not Mapped`, `Not Available`, `Unknown/Invalid`, `?`, and `None` values with `np.nan` in order to consider them as missing values. We also drop the columns with more than 50% missing values."
   ]
  },
  {
   "cell_type": "code",
   "execution_count": 93,
   "metadata": {},
   "outputs": [
    {
     "name": "stdout",
     "output_type": "stream",
     "text": [
      "Number of NaN values in each column:\n",
      "encounter_id                    0\n",
      "patient_nbr                     0\n",
      "race                         2273\n",
      "gender                          3\n",
      "age                             0\n",
      "weight                      98569\n",
      "admission_type_id           10396\n",
      "discharge_disposition_id     4680\n",
      "admission_source_id          7067\n",
      "time_in_hospital                0\n",
      "payer_code                  40256\n",
      "medical_specialty           49949\n",
      "num_lab_procedures              0\n",
      "num_procedures                  0\n",
      "num_medications                 0\n",
      "number_outpatient               0\n",
      "number_emergency                0\n",
      "number_inpatient                0\n",
      "diag_1                         21\n",
      "diag_2                        358\n",
      "diag_3                       1423\n",
      "number_diagnoses                0\n",
      "max_glu_serum               96420\n",
      "A1Cresult                   84748\n",
      "metformin                       0\n",
      "repaglinide                     0\n",
      "nateglinide                     0\n",
      "chlorpropamide                  0\n",
      "glimepiride                     0\n",
      "acetohexamide                   0\n",
      "glipizide                       0\n",
      "glyburide                       0\n",
      "tolbutamide                     0\n",
      "pioglitazone                    0\n",
      "rosiglitazone                   0\n",
      "acarbose                        0\n",
      "miglitol                        0\n",
      "troglitazone                    0\n",
      "tolazamide                      0\n",
      "examide                         0\n",
      "citoglipton                     0\n",
      "insulin                         0\n",
      "glyburide-metformin             0\n",
      "glipizide-metformin             0\n",
      "glimepiride-pioglitazone        0\n",
      "metformin-rosiglitazone         0\n",
      "metformin-pioglitazone          0\n",
      "change                          0\n",
      "diabetesMed                     0\n",
      "readmitted                      0\n",
      "dtype: int64\n"
     ]
    }
   ],
   "source": [
    "diabetes_df.replace('Not Available', np.nan, inplace=True)\n",
    "diabetes_df.replace('Not Mapped', np.nan, inplace=True)\n",
    "diabetes_df.replace('?', np.nan, inplace=True)\n",
    "diabetes_df.replace('Unknown/Invalid', np.nan, inplace=True)\n",
    "diabetes_df.replace('None', np.nan, inplace=True)\n",
    "\n",
    "nan_values = diabetes_df.isnull().sum()\n",
    "print(\"Number of NaN values in each column:\")\n",
    "print(nan_values)"
   ]
  },
  {
   "cell_type": "markdown",
   "metadata": {},
   "source": [
    "We drop the columns that more than 30% of their values are NaN."
   ]
  },
  {
   "cell_type": "code",
   "execution_count": 94,
   "metadata": {},
   "outputs": [],
   "source": [
    "missing_values_threshold = diabetes_df.shape[0] * 0.7\n",
    "diabetes_df.dropna(thresh=missing_values_threshold, axis=1, inplace=True)"
   ]
  },
  {
   "cell_type": "markdown",
   "metadata": {},
   "source": [
    "The most frequent value in each column and its frequency is calculated. As we can see most of them has a high frequency so we use them to fill the missing values."
   ]
  },
  {
   "cell_type": "code",
   "execution_count": 95,
   "metadata": {},
   "outputs": [
    {
     "name": "stdout",
     "output_type": "stream",
     "text": [
      "Columns with null values:\n",
      "Most frequent value in column race: Caucasian    76099\n",
      "Name: race, dtype: int64\n",
      "Most frequent value in column gender: Female    54708\n",
      "Name: gender, dtype: int64\n",
      "Most frequent value in column admission_type_id: Emergency    53990\n",
      "Name: admission_type_id, dtype: int64\n",
      "Most frequent value in column discharge_disposition_id: Discharged to home    60234\n",
      "Name: discharge_disposition_id, dtype: int64\n",
      "Most frequent value in column admission_source_id: Emergency Room    57494\n",
      "Name: admission_source_id, dtype: int64\n",
      "Most frequent value in column diag_1: 428    6862\n",
      "Name: diag_1, dtype: int64\n",
      "Most frequent value in column diag_2: 276    6752\n",
      "Name: diag_2, dtype: int64\n",
      "Most frequent value in column diag_3: 250    11555\n",
      "Name: diag_3, dtype: int64\n"
     ]
    }
   ],
   "source": [
    "cols_with_Nulls = diabetes_df.columns[diabetes_df.isnull().any()].tolist()\n",
    "print(\"Columns with null values:\")\n",
    "\n",
    "for col in cols_with_Nulls:\n",
    "    value_counts = diabetes_df[col].value_counts()\n",
    "    top_two_values = value_counts.head(1)\n",
    "    print(f\"Most frequent value in column {col}: {top_two_values}\")\n",
    "    \n",
    "for col in cols_with_Nulls:\n",
    "    diabetes_df[col].fillna(diabetes_df[col].value_counts().idxmax(), inplace=True)"
   ]
  },
  {
   "cell_type": "code",
   "execution_count": 96,
   "metadata": {},
   "outputs": [],
   "source": [
    "categorical = diabetes_df.select_dtypes(include=['object'])\n",
    "categorical_cols = categorical.columns.drop('readmitted')\n",
    "numerical_cols = diabetes_df.select_dtypes(include=['int64', 'float64']).columns"
   ]
  },
  {
   "cell_type": "markdown",
   "metadata": {},
   "source": [
    "### Group `diag_1`, `diag_2`, and `diag_3` Values"
   ]
  },
  {
   "cell_type": "markdown",
   "metadata": {},
   "source": [
    "We used the first three digits of the ICD9 codes to group the values. "
   ]
  },
  {
   "cell_type": "code",
   "execution_count": 97,
   "metadata": {},
   "outputs": [],
   "source": [
    "ranges = [\n",
    "    (1, 140, 1),\n",
    "    (140, 240, 2),\n",
    "    (240, 280, 3),\n",
    "    (280, 290, 4),\n",
    "    (290, 320, 5),\n",
    "    (320, 390, 6),\n",
    "    (390, 460, 7),\n",
    "    (460, 520, 8),\n",
    "    (520, 580, 9),\n",
    "    (580, 630, 10),\n",
    "    (630, 680, 11),\n",
    "    (680, 710, 12),\n",
    "    (710, 740, 13),\n",
    "    (740, 760, 14),\n",
    "    (760, 780, 15),\n",
    "    (780, 800, 16),\n",
    "    (800, 1000, 17),\n",
    "]\n",
    "\n",
    "def group_by_range(value):\n",
    "    try:\n",
    "        value = float(value)\n",
    "        for lower, upper, group in ranges:\n",
    "            if lower <= value < upper:\n",
    "                return group\n",
    "    except ValueError:\n",
    "        return 18\n",
    "\n",
    "diabetes_df['diag_1'] = diabetes_df['diag_1'].apply(group_by_range)\n",
    "diabetes_df['diag_2'] = diabetes_df['diag_2'].apply(group_by_range)\n",
    "diabetes_df['diag_3'] = diabetes_df['diag_3'].apply(group_by_range)"
   ]
  },
  {
   "cell_type": "markdown",
   "metadata": {},
   "source": [
    "### Handling Outliers"
   ]
  },
  {
   "cell_type": "markdown",
   "metadata": {},
   "source": [
    "In this part we calculate the z-score of each column and replace the values that their z-score is more than 3 or less than -3 with the median of the column. We used replacing instead of removing the rows because the dataset has many columns and removing the rows may cause loss of information."
   ]
  },
  {
   "cell_type": "code",
   "execution_count": 98,
   "metadata": {},
   "outputs": [],
   "source": [
    "def replace_outliers_with_median(df):\n",
    "    for column in df.select_dtypes(include=[np.number]).columns:\n",
    "        z_scores = (df[column] - df[column].mean()) / df[column].std()\n",
    "        outliers = (z_scores > 3) | (z_scores < -3)\n",
    "        median = df[column].median()\n",
    "        df.loc[outliers, column] = median\n",
    "    return df\n",
    "\n",
    "diabetes_df = replace_outliers_with_median(diabetes_df)"
   ]
  },
  {
   "cell_type": "markdown",
   "metadata": {},
   "source": [
    "### Encoding Categorical Columns"
   ]
  },
  {
   "cell_type": "markdown",
   "metadata": {},
   "source": [
    "In this part we count the number of unique values in each categorical column and drop the columns with only one unique value."
   ]
  },
  {
   "cell_type": "markdown",
   "metadata": {},
   "source": [
    "#### Medication Columns"
   ]
  },
  {
   "cell_type": "markdown",
   "metadata": {},
   "source": [
    "We have some medication features that have 4 unique values : `No`, `Steady`, `Up`, and `Down`. We first convert them to numerical values using label encoding because the values are ordinal. Then we display the frequency of each value."
   ]
  },
  {
   "cell_type": "code",
   "execution_count": 99,
   "metadata": {},
   "outputs": [
    {
     "name": "stdout",
     "output_type": "stream",
     "text": [
      "Frequency of values in metformin column:\n",
      "0    81778\n",
      "2    18346\n",
      "3     1067\n",
      "1      575\n",
      "Name: metformin, dtype: int64\n",
      "Frequency of values in repaglinide column:\n",
      "0    100227\n",
      "2      1384\n",
      "3       110\n",
      "1        45\n",
      "Name: repaglinide, dtype: int64\n",
      "Frequency of values in nateglinide column:\n",
      "0    101063\n",
      "2       668\n",
      "3        24\n",
      "1        11\n",
      "Name: nateglinide, dtype: int64\n",
      "Frequency of values in chlorpropamide column:\n",
      "0    101680\n",
      "2        79\n",
      "3         6\n",
      "1         1\n",
      "Name: chlorpropamide, dtype: int64\n",
      "Frequency of values in glimepiride column:\n",
      "0    96575\n",
      "2     4670\n",
      "3      327\n",
      "1      194\n",
      "Name: glimepiride, dtype: int64\n",
      "Frequency of values in acetohexamide column:\n",
      "0    101765\n",
      "2         1\n",
      "Name: acetohexamide, dtype: int64\n",
      "Frequency of values in glipizide column:\n",
      "0    89080\n",
      "2    11356\n",
      "3      770\n",
      "1      560\n",
      "Name: glipizide, dtype: int64\n",
      "Frequency of values in glyburide column:\n",
      "0    91116\n",
      "2     9274\n",
      "3      812\n",
      "1      564\n",
      "Name: glyburide, dtype: int64\n",
      "Frequency of values in tolbutamide column:\n",
      "0    101743\n",
      "2        23\n",
      "Name: tolbutamide, dtype: int64\n",
      "Frequency of values in pioglitazone column:\n",
      "0    94438\n",
      "2     6976\n",
      "3      234\n",
      "1      118\n",
      "Name: pioglitazone, dtype: int64\n",
      "Frequency of values in rosiglitazone column:\n",
      "0    95401\n",
      "2     6100\n",
      "3      178\n",
      "1       87\n",
      "Name: rosiglitazone, dtype: int64\n",
      "Frequency of values in acarbose column:\n",
      "0    101458\n",
      "2       295\n",
      "3        10\n",
      "1         3\n",
      "Name: acarbose, dtype: int64\n",
      "Frequency of values in miglitol column:\n",
      "0    101728\n",
      "2        31\n",
      "1         5\n",
      "3         2\n",
      "Name: miglitol, dtype: int64\n",
      "Frequency of values in troglitazone column:\n",
      "0    101763\n",
      "2         3\n",
      "Name: troglitazone, dtype: int64\n",
      "Frequency of values in tolazamide column:\n",
      "0    101727\n",
      "2        38\n",
      "3         1\n",
      "Name: tolazamide, dtype: int64\n",
      "Frequency of values in examide column:\n",
      "0    101766\n",
      "Name: examide, dtype: int64\n",
      "Frequency of values in citoglipton column:\n",
      "0    101766\n",
      "Name: citoglipton, dtype: int64\n",
      "Frequency of values in insulin column:\n",
      "0    47383\n",
      "2    30849\n",
      "1    12218\n",
      "3    11316\n",
      "Name: insulin, dtype: int64\n",
      "Frequency of values in glyburide-metformin column:\n",
      "0    101060\n",
      "2       692\n",
      "3         8\n",
      "1         6\n",
      "Name: glyburide-metformin, dtype: int64\n",
      "Frequency of values in glipizide-metformin column:\n",
      "0    101753\n",
      "2        13\n",
      "Name: glipizide-metformin, dtype: int64\n",
      "Frequency of values in glimepiride-pioglitazone column:\n",
      "0    101765\n",
      "2         1\n",
      "Name: glimepiride-pioglitazone, dtype: int64\n",
      "Frequency of values in metformin-rosiglitazone column:\n",
      "0    101764\n",
      "2         2\n",
      "Name: metformin-rosiglitazone, dtype: int64\n",
      "Frequency of values in metformin-pioglitazone column:\n",
      "0    101765\n",
      "2         1\n",
      "Name: metformin-pioglitazone, dtype: int64\n"
     ]
    }
   ],
   "source": [
    "medication_features = ['metformin', 'repaglinide', 'nateglinide', 'chlorpropamide', \n",
    "                          'glimepiride', 'acetohexamide', 'glipizide', 'glyburide', \n",
    "                          'tolbutamide', 'pioglitazone', 'rosiglitazone', 'acarbose', \n",
    "                          'miglitol', 'troglitazone', 'tolazamide', 'examide', 'citoglipton', \n",
    "                          'insulin', 'glyburide-metformin', 'glipizide-metformin', \n",
    "                          'glimepiride-pioglitazone', 'metformin-rosiglitazone', \n",
    "                          'metformin-pioglitazone']\n",
    "medication_features_mapping = {k: {'No': 0, 'Down': 1, 'Steady': 2, 'Up': 3} for k in medication_features}\n",
    "\n",
    "for feature in medication_features:\n",
    "    diabetes_df[feature] = diabetes_df[feature].map(medication_features_mapping[feature])\n",
    "\n",
    "for feature in medication_features:\n",
    "    print(f\"Frequency of values in {feature} column:\")\n",
    "    print(diabetes_df[feature].value_counts())"
   ]
  },
  {
   "cell_type": "markdown",
   "metadata": {},
   "source": [
    "As we can see, In columns `chlorpropamide`, `glyburide-metformin`, and `acarbose` the value for `Down` , `Up` and `Steady` are not frequent comparing to `No` value so we use binary values for them: 0 for no description and 1 for any description.  \n",
    "Also in columns `acetohexamide`, `tolbutamide`, `miglitol`, `tolazamide`, `glipizide-metformin`, `glimepiride-pioglitazone`, `metformin-rosiglitazone`, and `metformin-pioglitazone` the value for columns that are not `No` are so little that we can drop the columns."
   ]
  },
  {
   "cell_type": "code",
   "execution_count": 100,
   "metadata": {},
   "outputs": [],
   "source": [
    "replacement_mapping = {1: 1, 2: 1, 3: 1}\n",
    "diabetes_df[['chlorpropamide', 'acarbose', 'glyburide-metformin']] = diabetes_df[['chlorpropamide', 'acarbose', 'glyburide-metformin']].replace(replacement_mapping)\n",
    "\n",
    "cols_with_not_frequnet_values = ['acetohexamide', 'tolbutamide', 'troglitazone', 'miglitol', 'tolazamide', 'glipizide-metformin', \n",
    "                                 'glimepiride-pioglitazone', 'metformin-rosiglitazone', 'metformin-pioglitazone']\n",
    "diabetes_df.drop(cols_with_not_frequnet_values, axis=1, inplace=True)"
   ]
  },
  {
   "cell_type": "markdown",
   "metadata": {},
   "source": [
    "#### Age column"
   ]
  },
  {
   "cell_type": "code",
   "execution_count": 101,
   "metadata": {},
   "outputs": [],
   "source": [
    "age_mapping = { '[0-10)': 0, '[10-20)': 1, '[20-30)': 2, '[30-40)': 3, '[40-50)': 4, '[50-60)': 5, '[60-70)': 6, '[70-80)': 7, '[80-90)': 8, '[90-100)': 9 }\n",
    "diabetes_df['age'] = diabetes_df['age'].map(age_mapping)"
   ]
  },
  {
   "cell_type": "markdown",
   "metadata": {},
   "source": [
    "In this part we replace the values that their frequency is less than 50 with `'other'` in order to reduce the number of unique values. We also remove the columns that has less than 3 unique values and one of them has a frequency of less than 50."
   ]
  },
  {
   "cell_type": "code",
   "execution_count": 102,
   "metadata": {},
   "outputs": [],
   "source": [
    "categorical_columns = diabetes_df.select_dtypes(include='object').columns\n",
    "for col in categorical_columns:\n",
    "    value_counts = diabetes_df[col].value_counts()\n",
    "    values_to_label = value_counts[value_counts < 0.0005 * diabetes_df[col].shape[0]].index\n",
    "    diabetes_df[col] = diabetes_df[col].apply(lambda x: 'other' if x in values_to_label else x)\n"
   ]
  },
  {
   "cell_type": "code",
   "execution_count": 103,
   "metadata": {},
   "outputs": [
    {
     "name": "stdout",
     "output_type": "stream",
     "text": [
      "Number of unique values in each column:\n",
      "race: 5\n",
      "gender: 2\n",
      "admission_type_id: 4\n",
      "discharge_disposition_id: 16\n",
      "admission_source_id: 8\n",
      "change: 2\n",
      "diabetesMed: 2\n",
      "readmitted: 3\n"
     ]
    }
   ],
   "source": [
    "categorical_columns = diabetes_df.select_dtypes(include='object').columns\n",
    "print('Number of unique values in each column:')\n",
    "for column in categorical_columns:\n",
    "    print(f\"{column}: {diabetes_df[column].nunique()}\")\n",
    "    \n",
    "unique_value_columns = diabetes_df.columns[diabetes_df.nunique() == 1]\n",
    "diabetes_df.drop(unique_value_columns, axis=1, inplace=True)"
   ]
  },
  {
   "cell_type": "code",
   "execution_count": 104,
   "metadata": {},
   "outputs": [],
   "source": [
    "X_train = diabetes_df.drop(columns=['readmitted'])\n",
    "y_train = diabetes_df['readmitted']"
   ]
  },
  {
   "cell_type": "markdown",
   "metadata": {},
   "source": [
    "#### Convert Categorical Columns to Numerical (One-Hot Encoding or Label Encoding) "
   ]
  },
  {
   "cell_type": "markdown",
   "metadata": {},
   "source": [
    "In this part we convert the categorical columns to numerical using one-hot encoding because this type of encoding does not assume that the features are ordinal. In our case the remaining categorical features are nor ordinal so we use one-hot encoding."
   ]
  },
  {
   "cell_type": "code",
   "execution_count": 105,
   "metadata": {},
   "outputs": [],
   "source": [
    "\n",
    "# categorical_columns = X_train.select_dtypes(include='object').columns\n",
    "# label_encode_columns = ['admission_type_id', 'discharge_disposition_id', 'admission_source_id']\n",
    "# one_hot_columns = []\n",
    "# for col in categorical_columns:\n",
    "#     if col not in label_encode_columns:\n",
    "#         one_hot_columns.append(col)\n",
    "\n",
    "# one_hot_encoder = OneHotEncoder(sparse=False, drop='first')\n",
    "# one_hot_encoded = one_hot_encoder.fit_transform(X_train[one_hot_columns])\n",
    "\n",
    "# label_encoded_df = diabetes_df[categorical_columns].apply(LabelEncoder().fit_transform)\n",
    "\n",
    "# X_train.drop(columns=one_hot_columns + label_encode_columns, inplace=True)\n",
    "# X_train = pd.concat([X_train, label_encoded_df], axis=1)\n",
    "# one_hot_encoded_df = pd.DataFrame(one_hot_encoded, columns=one_hot_encoder.get_feature_names_out(one_hot_columns))\n",
    "\n",
    "# label_encoder = LabelEncoder()\n",
    "# for column in categorical_columns:\n",
    "#     X_train[column] = label_encoder.fit_transform(X_train[column])"
   ]
  },
  {
   "cell_type": "code",
   "execution_count": 106,
   "metadata": {},
   "outputs": [],
   "source": [
    "def encode_onehot(df, column):\n",
    "    onehot = pd.get_dummies(df[column], prefix=column)\n",
    "    df = pd.concat([df, onehot], axis=1)\n",
    "    df = df.drop(column, axis=1)\n",
    "    return df"
   ]
  },
  {
   "cell_type": "code",
   "execution_count": 107,
   "metadata": {},
   "outputs": [],
   "source": [
    "\n",
    "categorical_columns = X_train.select_dtypes(include='object').columns\n",
    "\n",
    "for column in categorical_columns:\n",
    "    X_train = encode_onehot(X_train, column)\n",
    "\n"
   ]
  },
  {
   "cell_type": "code",
   "execution_count": 108,
   "metadata": {},
   "outputs": [
    {
     "name": "stdout",
     "output_type": "stream",
     "text": [
      "<class 'pandas.core.frame.DataFrame'>\n",
      "Int64Index: 101766 entries, 0 to 101765\n",
      "Data columns (total 65 columns):\n",
      " #   Column                                                                                                                              Non-Null Count   Dtype\n",
      "---  ------                                                                                                                              --------------   -----\n",
      " 0   encounter_id                                                                                                                        101766 non-null  int64\n",
      " 1   patient_nbr                                                                                                                         101766 non-null  int64\n",
      " 2   age                                                                                                                                 101766 non-null  int64\n",
      " 3   time_in_hospital                                                                                                                    101766 non-null  int64\n",
      " 4   num_lab_procedures                                                                                                                  101766 non-null  int64\n",
      " 5   num_procedures                                                                                                                      101766 non-null  int64\n",
      " 6   num_medications                                                                                                                     101766 non-null  int64\n",
      " 7   number_outpatient                                                                                                                   101766 non-null  int64\n",
      " 8   number_emergency                                                                                                                    101766 non-null  int64\n",
      " 9   number_inpatient                                                                                                                    101766 non-null  int64\n",
      " 10  diag_1                                                                                                                              101766 non-null  int64\n",
      " 11  diag_2                                                                                                                              101766 non-null  int64\n",
      " 12  diag_3                                                                                                                              101766 non-null  int64\n",
      " 13  number_diagnoses                                                                                                                    101766 non-null  int64\n",
      " 14  metformin                                                                                                                           101766 non-null  int64\n",
      " 15  repaglinide                                                                                                                         101766 non-null  int64\n",
      " 16  nateglinide                                                                                                                         101766 non-null  int64\n",
      " 17  chlorpropamide                                                                                                                      101766 non-null  int64\n",
      " 18  glimepiride                                                                                                                         101766 non-null  int64\n",
      " 19  glipizide                                                                                                                           101766 non-null  int64\n",
      " 20  glyburide                                                                                                                           101766 non-null  int64\n",
      " 21  pioglitazone                                                                                                                        101766 non-null  int64\n",
      " 22  rosiglitazone                                                                                                                       101766 non-null  int64\n",
      " 23  acarbose                                                                                                                            101766 non-null  int64\n",
      " 24  insulin                                                                                                                             101766 non-null  int64\n",
      " 25  glyburide-metformin                                                                                                                 101766 non-null  int64\n",
      " 26  race_AfricanAmerican                                                                                                                101766 non-null  uint8\n",
      " 27  race_Asian                                                                                                                          101766 non-null  uint8\n",
      " 28  race_Caucasian                                                                                                                      101766 non-null  uint8\n",
      " 29  race_Hispanic                                                                                                                       101766 non-null  uint8\n",
      " 30  race_Other                                                                                                                          101766 non-null  uint8\n",
      " 31  gender_Female                                                                                                                       101766 non-null  uint8\n",
      " 32  gender_Male                                                                                                                         101766 non-null  uint8\n",
      " 33  admission_type_id_Elective                                                                                                          101766 non-null  uint8\n",
      " 34  admission_type_id_Emergency                                                                                                         101766 non-null  uint8\n",
      " 35  admission_type_id_Urgent                                                                                                            101766 non-null  uint8\n",
      " 36  admission_type_id_other                                                                                                             101766 non-null  uint8\n",
      " 37  discharge_disposition_id_Discharged to home                                                                                         101766 non-null  uint8\n",
      " 38  discharge_disposition_id_Discharged/transferred to ICF                                                                              101766 non-null  uint8\n",
      " 39  discharge_disposition_id_Discharged/transferred to SNF                                                                              101766 non-null  uint8\n",
      " 40  discharge_disposition_id_Discharged/transferred to a long term care hospital.                                                       101766 non-null  uint8\n",
      " 41  discharge_disposition_id_Discharged/transferred to another rehab fac including rehab units of a hospital .                          101766 non-null  uint8\n",
      " 42  discharge_disposition_id_Discharged/transferred to another short term hospital                                                      101766 non-null  uint8\n",
      " 43  discharge_disposition_id_Discharged/transferred to another type of inpatient care institution                                       101766 non-null  uint8\n",
      " 44  discharge_disposition_id_Discharged/transferred to home under care of Home IV provider                                              101766 non-null  uint8\n",
      " 45  discharge_disposition_id_Discharged/transferred to home with home health service                                                    101766 non-null  uint8\n",
      " 46  discharge_disposition_id_Discharged/transferred within this institution to Medicare approved swing bed                              101766 non-null  uint8\n",
      " 47  discharge_disposition_id_Discharged/transferred/referred to a psychiatric hospital of psychiatric distinct part unit of a hospital  101766 non-null  uint8\n",
      " 48  discharge_disposition_id_Expired                                                                                                    101766 non-null  uint8\n",
      " 49  discharge_disposition_id_Hospice / home                                                                                             101766 non-null  uint8\n",
      " 50  discharge_disposition_id_Hospice / medical facility                                                                                 101766 non-null  uint8\n",
      " 51  discharge_disposition_id_Left AMA                                                                                                   101766 non-null  uint8\n",
      " 52  discharge_disposition_id_other                                                                                                      101766 non-null  uint8\n",
      " 53  admission_source_id_Clinic Referral                                                                                                 101766 non-null  uint8\n",
      " 54  admission_source_id_Emergency Room                                                                                                  101766 non-null  uint8\n",
      " 55  admission_source_id_HMO Referral                                                                                                    101766 non-null  uint8\n",
      " 56  admission_source_id_Physician Referral                                                                                              101766 non-null  uint8\n",
      " 57  admission_source_id_Transfer from a Skilled Nursing Facility (SNF)                                                                  101766 non-null  uint8\n",
      " 58  admission_source_id_Transfer from a hospital                                                                                        101766 non-null  uint8\n",
      " 59  admission_source_id_Transfer from another health care facility                                                                      101766 non-null  uint8\n",
      " 60  admission_source_id_other                                                                                                           101766 non-null  uint8\n",
      " 61  change_Ch                                                                                                                           101766 non-null  uint8\n",
      " 62  change_No                                                                                                                           101766 non-null  uint8\n",
      " 63  diabetesMed_No                                                                                                                      101766 non-null  uint8\n",
      " 64  diabetesMed_Yes                                                                                                                     101766 non-null  uint8\n",
      "dtypes: int64(26), uint8(39)\n",
      "memory usage: 24.7 MB\n"
     ]
    }
   ],
   "source": [
    "X_train.info()"
   ]
  },
  {
   "cell_type": "markdown",
   "metadata": {},
   "source": [
    "The columns `encounter_id` and `patient_nbr` are dropped because they are either unique for each row or does not effect the result and do not provide any information."
   ]
  },
  {
   "cell_type": "code",
   "execution_count": 109,
   "metadata": {},
   "outputs": [],
   "source": [
    "X_train.drop(columns=['encounter_id', 'patient_nbr'], inplace=True)"
   ]
  },
  {
   "cell_type": "markdown",
   "metadata": {},
   "source": [
    "### Standardizing the Data"
   ]
  },
  {
   "cell_type": "markdown",
   "metadata": {},
   "source": [
    "We standardize the data using `StandardScaler` in order to have zero mean and unit variance. We should standardize the data before applying PCA because PCA is sensitive to the scale of the data. The key point in standardization is that we only standardize the numerical features."
   ]
  },
  {
   "cell_type": "code",
   "execution_count": 110,
   "metadata": {},
   "outputs": [
    {
     "data": {
      "text/html": [
       "<div>\n",
       "<style scoped>\n",
       "    .dataframe tbody tr th:only-of-type {\n",
       "        vertical-align: middle;\n",
       "    }\n",
       "\n",
       "    .dataframe tbody tr th {\n",
       "        vertical-align: top;\n",
       "    }\n",
       "\n",
       "    .dataframe thead th {\n",
       "        text-align: right;\n",
       "    }\n",
       "</style>\n",
       "<table border=\"1\" class=\"dataframe\">\n",
       "  <thead>\n",
       "    <tr style=\"text-align: right;\">\n",
       "      <th></th>\n",
       "      <th>age</th>\n",
       "      <th>time_in_hospital</th>\n",
       "      <th>num_lab_procedures</th>\n",
       "      <th>num_procedures</th>\n",
       "      <th>num_medications</th>\n",
       "      <th>number_outpatient</th>\n",
       "      <th>number_emergency</th>\n",
       "      <th>number_inpatient</th>\n",
       "      <th>diag_1</th>\n",
       "      <th>diag_2</th>\n",
       "      <th>...</th>\n",
       "      <th>admission_source_id_HMO Referral</th>\n",
       "      <th>admission_source_id_Physician Referral</th>\n",
       "      <th>admission_source_id_Transfer from a Skilled Nursing Facility (SNF)</th>\n",
       "      <th>admission_source_id_Transfer from a hospital</th>\n",
       "      <th>admission_source_id_Transfer from another health care facility</th>\n",
       "      <th>admission_source_id_other</th>\n",
       "      <th>change_Ch</th>\n",
       "      <th>change_No</th>\n",
       "      <th>diabetesMed_No</th>\n",
       "      <th>diabetesMed_Yes</th>\n",
       "    </tr>\n",
       "  </thead>\n",
       "  <tbody>\n",
       "    <tr>\n",
       "      <th>0</th>\n",
       "      <td>0</td>\n",
       "      <td>-1.167569</td>\n",
       "      <td>-0.105366</td>\n",
       "      <td>-0.785398</td>\n",
       "      <td>-2.038899</td>\n",
       "      <td>-0.360564</td>\n",
       "      <td>-0.306317</td>\n",
       "      <td>-0.567598</td>\n",
       "      <td>3</td>\n",
       "      <td>3</td>\n",
       "      <td>...</td>\n",
       "      <td>0</td>\n",
       "      <td>1</td>\n",
       "      <td>0</td>\n",
       "      <td>0</td>\n",
       "      <td>0</td>\n",
       "      <td>0</td>\n",
       "      <td>0</td>\n",
       "      <td>1</td>\n",
       "      <td>1</td>\n",
       "      <td>0</td>\n",
       "    </tr>\n",
       "    <tr>\n",
       "      <th>1</th>\n",
       "      <td>1</td>\n",
       "      <td>-0.458575</td>\n",
       "      <td>0.811774</td>\n",
       "      <td>-0.785398</td>\n",
       "      <td>0.339504</td>\n",
       "      <td>-0.360564</td>\n",
       "      <td>-0.306317</td>\n",
       "      <td>-0.567598</td>\n",
       "      <td>3</td>\n",
       "      <td>3</td>\n",
       "      <td>...</td>\n",
       "      <td>0</td>\n",
       "      <td>0</td>\n",
       "      <td>0</td>\n",
       "      <td>0</td>\n",
       "      <td>0</td>\n",
       "      <td>0</td>\n",
       "      <td>1</td>\n",
       "      <td>0</td>\n",
       "      <td>0</td>\n",
       "      <td>1</td>\n",
       "    </tr>\n",
       "    <tr>\n",
       "      <th>2</th>\n",
       "      <td>2</td>\n",
       "      <td>-0.813072</td>\n",
       "      <td>-1.633932</td>\n",
       "      <td>2.145781</td>\n",
       "      <td>-0.360026</td>\n",
       "      <td>2.434357</td>\n",
       "      <td>-0.306317</td>\n",
       "      <td>0.556749</td>\n",
       "      <td>11</td>\n",
       "      <td>3</td>\n",
       "      <td>...</td>\n",
       "      <td>0</td>\n",
       "      <td>0</td>\n",
       "      <td>0</td>\n",
       "      <td>0</td>\n",
       "      <td>0</td>\n",
       "      <td>0</td>\n",
       "      <td>0</td>\n",
       "      <td>1</td>\n",
       "      <td>0</td>\n",
       "      <td>1</td>\n",
       "    </tr>\n",
       "    <tr>\n",
       "      <th>3</th>\n",
       "      <td>3</td>\n",
       "      <td>-0.813072</td>\n",
       "      <td>0.047490</td>\n",
       "      <td>-0.199162</td>\n",
       "      <td>0.059692</td>\n",
       "      <td>-0.360564</td>\n",
       "      <td>-0.306317</td>\n",
       "      <td>-0.567598</td>\n",
       "      <td>1</td>\n",
       "      <td>3</td>\n",
       "      <td>...</td>\n",
       "      <td>0</td>\n",
       "      <td>0</td>\n",
       "      <td>0</td>\n",
       "      <td>0</td>\n",
       "      <td>0</td>\n",
       "      <td>0</td>\n",
       "      <td>1</td>\n",
       "      <td>0</td>\n",
       "      <td>0</td>\n",
       "      <td>1</td>\n",
       "    </tr>\n",
       "    <tr>\n",
       "      <th>4</th>\n",
       "      <td>4</td>\n",
       "      <td>-1.167569</td>\n",
       "      <td>0.404156</td>\n",
       "      <td>-0.785398</td>\n",
       "      <td>-1.059557</td>\n",
       "      <td>-0.360564</td>\n",
       "      <td>-0.306317</td>\n",
       "      <td>-0.567598</td>\n",
       "      <td>2</td>\n",
       "      <td>2</td>\n",
       "      <td>...</td>\n",
       "      <td>0</td>\n",
       "      <td>0</td>\n",
       "      <td>0</td>\n",
       "      <td>0</td>\n",
       "      <td>0</td>\n",
       "      <td>0</td>\n",
       "      <td>1</td>\n",
       "      <td>0</td>\n",
       "      <td>0</td>\n",
       "      <td>1</td>\n",
       "    </tr>\n",
       "  </tbody>\n",
       "</table>\n",
       "<p>5 rows × 63 columns</p>\n",
       "</div>"
      ],
      "text/plain": [
       "   age  time_in_hospital  num_lab_procedures  num_procedures  num_medications  \\\n",
       "0    0         -1.167569           -0.105366       -0.785398        -2.038899   \n",
       "1    1         -0.458575            0.811774       -0.785398         0.339504   \n",
       "2    2         -0.813072           -1.633932        2.145781        -0.360026   \n",
       "3    3         -0.813072            0.047490       -0.199162         0.059692   \n",
       "4    4         -1.167569            0.404156       -0.785398        -1.059557   \n",
       "\n",
       "   number_outpatient  number_emergency  number_inpatient  diag_1  diag_2  ...  \\\n",
       "0          -0.360564         -0.306317         -0.567598       3       3  ...   \n",
       "1          -0.360564         -0.306317         -0.567598       3       3  ...   \n",
       "2           2.434357         -0.306317          0.556749      11       3  ...   \n",
       "3          -0.360564         -0.306317         -0.567598       1       3  ...   \n",
       "4          -0.360564         -0.306317         -0.567598       2       2  ...   \n",
       "\n",
       "   admission_source_id_HMO Referral  admission_source_id_Physician Referral  \\\n",
       "0                                 0                                       1   \n",
       "1                                 0                                       0   \n",
       "2                                 0                                       0   \n",
       "3                                 0                                       0   \n",
       "4                                 0                                       0   \n",
       "\n",
       "   admission_source_id_Transfer from a Skilled Nursing Facility (SNF)  \\\n",
       "0                                                  0                    \n",
       "1                                                  0                    \n",
       "2                                                  0                    \n",
       "3                                                  0                    \n",
       "4                                                  0                    \n",
       "\n",
       "   admission_source_id_Transfer from a hospital  \\\n",
       "0                                             0   \n",
       "1                                             0   \n",
       "2                                             0   \n",
       "3                                             0   \n",
       "4                                             0   \n",
       "\n",
       "   admission_source_id_Transfer from another health care facility  \\\n",
       "0                                                  0                \n",
       "1                                                  0                \n",
       "2                                                  0                \n",
       "3                                                  0                \n",
       "4                                                  0                \n",
       "\n",
       "   admission_source_id_other  change_Ch  change_No  diabetesMed_No  \\\n",
       "0                          0          0          1               1   \n",
       "1                          0          1          0               0   \n",
       "2                          0          0          1               0   \n",
       "3                          0          1          0               0   \n",
       "4                          0          1          0               0   \n",
       "\n",
       "   diabetesMed_Yes  \n",
       "0                0  \n",
       "1                1  \n",
       "2                1  \n",
       "3                1  \n",
       "4                1  \n",
       "\n",
       "[5 rows x 63 columns]"
      ]
     },
     "execution_count": 110,
     "metadata": {},
     "output_type": "execute_result"
    }
   ],
   "source": [
    "scaler = StandardScaler()\n",
    "# X_train_standardized= scaler.fit_transform(X_train)\n",
    "X_train_standardized = X_train.copy()\n",
    "# apply scaler for different columns\n",
    "for col in X_train.columns:\n",
    "    if col in numerical_cols:\n",
    "        X_train_standardized[col] = scaler.fit_transform(X_train[col].values.reshape(-1, 1))\n",
    "        \n",
    "X_train_standardized.head()"
   ]
  },
  {
   "cell_type": "markdown",
   "metadata": {},
   "source": [
    "## Dimensionality Reduction"
   ]
  },
  {
   "cell_type": "markdown",
   "metadata": {},
   "source": [
    "### Principal Component Analysis (PCA)"
   ]
  },
  {
   "cell_type": "markdown",
   "metadata": {},
   "source": [
    "PCA is a linear dimensionality reduction technique that can be utilized for extracting information from a high-dimensional space by projecting it into a lower-dimensional sub-space. It tries to preserve the essential parts that have more variation of the data and remove the non-essential parts with fewer variation.  \n",
    "We set the `n_components` parameter to 0.9 to keep the minimum number of principal components that explain 90% of the variance. We also set the `random_state` to 42 for reproducibility. After fitting the PCA model to the data, we transform the data into the new space.  \n",
    "`pca.components_[0].argsort()[::-1]` returns the indices of the features sorted in descending order based on their loadings (or weights) in the first principal component. `X_train.columns[...]` uses these indices to get the names of the columns in the sorted order."
   ]
  },
  {
   "cell_type": "code",
   "execution_count": 111,
   "metadata": {},
   "outputs": [
    {
     "name": "stdout",
     "output_type": "stream",
     "text": [
      "diag_1: 0.6886554151876098\n",
      "diag_3: 0.6505681633464075\n",
      "diag_2: 0.31649666337231946\n",
      "number_diagnoses: 0.02759036564509509\n",
      "age: 0.027131298382077486\n",
      "num_medications: 0.011180821594673998\n",
      "discharge_disposition_id_Discharged/transferred to SNF: 0.005192554149713611\n",
      "number_inpatient: 0.004557517792747963\n",
      "admission_type_id_Elective: 0.004525778900268314\n",
      "number_outpatient: 0.004482962988633668\n",
      "metformin: 0.003840952310147248\n",
      "num_procedures: 0.0035184624931038355\n",
      "discharge_disposition_id_Discharged/transferred to home with home health service: 0.0030718095702207317\n",
      "race_Caucasian: 0.0029573815117542534\n",
      "change_No: 0.0025482681262763447\n",
      "pioglitazone: 0.0024192050124436488\n",
      "diabetesMed_No: 0.0022011686396342972\n",
      "gender_Female: 0.001969322279424549\n",
      "admission_source_id_Physician Referral: 0.0018921381520540063\n",
      "discharge_disposition_id_Discharged/transferred to another rehab fac including rehab units of a hospital .: 0.0018808141601520877\n",
      "glyburide: 0.0017382467897452457\n",
      "admission_source_id_Transfer from a hospital: 0.0016670969998827728\n",
      "glipizide: 0.0013039026835217735\n",
      "rosiglitazone: 0.001056850874031471\n",
      "number_emergency: 0.00047046762027555533\n",
      "time_in_hospital: 0.0003562611409267946\n",
      "admission_source_id_Transfer from a Skilled Nursing Facility (SNF): 0.0002766884362287201\n",
      "glyburide-metformin: 0.00019740936832753466\n",
      "discharge_disposition_id_Discharged/transferred to another type of inpatient care institution: 0.00016339003162934993\n",
      "race_Other: 0.00011757960660473599\n",
      "admission_type_id_other: 9.741787024826373e-05\n",
      "repaglinide: 7.660133806208091e-05\n",
      "discharge_disposition_id_Discharged/transferred to home under care of Home IV provider: 7.295644807800766e-05\n",
      "admission_source_id_other: 6.775947829231706e-05\n",
      "nateglinide: 5.6458826037594216e-05\n",
      "race_Asian: 5.439539444775548e-05\n",
      "acarbose: 3.585894534881582e-05\n",
      "discharge_disposition_id_Discharged/transferred/referred to a psychiatric hospital of psychiatric distinct part unit of a hospital: 2.8389199260512447e-05\n",
      "discharge_disposition_id_Discharged/transferred within this institution to Medicare approved swing bed: 1.7302297658356772e-05\n",
      "admission_type_id_Urgent: 8.593579348621515e-06\n",
      "discharge_disposition_id_Discharged/transferred to a long term care hospital.: 8.798521435159763e-07\n",
      "discharge_disposition_id_other: -2.308763497669612e-06\n",
      "admission_source_id_HMO Referral: -7.358073988036629e-06\n",
      "chlorpropamide: -1.0546948975497818e-05\n",
      "admission_source_id_Clinic Referral: -2.5643832559202466e-05\n",
      "discharge_disposition_id_Discharged/transferred to ICF: -3.690745663992773e-05\n",
      "race_Hispanic: -5.008419074742829e-05\n",
      "discharge_disposition_id_Discharged/transferred to another short term hospital: -0.00011491761665556133\n",
      "discharge_disposition_id_Left AMA: -0.00013102976708024119\n",
      "glimepiride: -0.00017724212348746435\n",
      "discharge_disposition_id_Hospice / medical facility: -0.00026337711326775376\n",
      "discharge_disposition_id_Hospice / home: -0.0003619198120853381\n",
      "admission_source_id_Transfer from another health care facility: -0.0004011785120750613\n",
      "discharge_disposition_id_Expired: -0.000893907342429902\n",
      "gender_Male: -0.0019693222794245433\n",
      "diabetesMed_Yes: -0.0022011686396342955\n",
      "change_Ch: -0.002548268126276346\n",
      "race_AfricanAmerican: -0.0030792723220593164\n",
      "admission_source_id_Emergency Room: -0.0034695026478355163\n",
      "admission_type_id_Emergency: -0.0046317903498651935\n",
      "discharge_disposition_id_Discharged to home: -0.008623727837199743\n",
      "insulin: -0.01382518810235024\n",
      "num_lab_procedures: -0.015046837169030991\n"
     ]
    }
   ],
   "source": [
    "pca = PCA(n_components=0.5, random_state=42)\n",
    "X_reduced = pca.fit_transform(X_train_standardized)\n",
    "pca.explained_variance_ratio_\n",
    "X_reduced_df = pd.DataFrame(X_reduced, columns=[f'PC{i}' for i in range(1, X_reduced.shape[1] + 1)])\n",
    "\n",
    "selected_columns = X_train.columns[pca.components_[0].argsort()[::-1]]\n",
    "for col in selected_columns:\n",
    "    print(f\"{col}: {pca.components_[0][X_train.columns.get_loc(col)]}\")"
   ]
  },
  {
   "cell_type": "code",
   "execution_count": 112,
   "metadata": {},
   "outputs": [
    {
     "data": {
      "text/html": [
       "<div>\n",
       "<style scoped>\n",
       "    .dataframe tbody tr th:only-of-type {\n",
       "        vertical-align: middle;\n",
       "    }\n",
       "\n",
       "    .dataframe tbody tr th {\n",
       "        vertical-align: top;\n",
       "    }\n",
       "\n",
       "    .dataframe thead th {\n",
       "        text-align: right;\n",
       "    }\n",
       "</style>\n",
       "<table border=\"1\" class=\"dataframe\">\n",
       "  <thead>\n",
       "    <tr style=\"text-align: right;\">\n",
       "      <th></th>\n",
       "      <th>PC1</th>\n",
       "      <th>PC2</th>\n",
       "    </tr>\n",
       "  </thead>\n",
       "  <tbody>\n",
       "    <tr>\n",
       "      <th>0</th>\n",
       "      <td>-8.163628</td>\n",
       "      <td>0.411659</td>\n",
       "    </tr>\n",
       "    <tr>\n",
       "      <th>1</th>\n",
       "      <td>-8.165266</td>\n",
       "      <td>0.526503</td>\n",
       "    </tr>\n",
       "    <tr>\n",
       "      <th>2</th>\n",
       "      <td>7.186028</td>\n",
       "      <td>5.161214</td>\n",
       "    </tr>\n",
       "    <tr>\n",
       "      <th>3</th>\n",
       "      <td>-6.908716</td>\n",
       "      <td>4.681835</td>\n",
       "    </tr>\n",
       "    <tr>\n",
       "      <th>4</th>\n",
       "      <td>-9.144380</td>\n",
       "      <td>1.017464</td>\n",
       "    </tr>\n",
       "    <tr>\n",
       "      <th>...</th>\n",
       "      <td>...</td>\n",
       "      <td>...</td>\n",
       "    </tr>\n",
       "    <tr>\n",
       "      <th>101761</th>\n",
       "      <td>-4.725034</td>\n",
       "      <td>3.469927</td>\n",
       "    </tr>\n",
       "    <tr>\n",
       "      <th>101762</th>\n",
       "      <td>4.670688</td>\n",
       "      <td>5.268190</td>\n",
       "    </tr>\n",
       "    <tr>\n",
       "      <th>101763</th>\n",
       "      <td>-5.777161</td>\n",
       "      <td>4.109306</td>\n",
       "    </tr>\n",
       "    <tr>\n",
       "      <th>101764</th>\n",
       "      <td>11.141742</td>\n",
       "      <td>0.458503</td>\n",
       "    </tr>\n",
       "    <tr>\n",
       "      <th>101765</th>\n",
       "      <td>6.551226</td>\n",
       "      <td>5.905826</td>\n",
       "    </tr>\n",
       "  </tbody>\n",
       "</table>\n",
       "<p>101766 rows × 2 columns</p>\n",
       "</div>"
      ],
      "text/plain": [
       "              PC1       PC2\n",
       "0       -8.163628  0.411659\n",
       "1       -8.165266  0.526503\n",
       "2        7.186028  5.161214\n",
       "3       -6.908716  4.681835\n",
       "4       -9.144380  1.017464\n",
       "...           ...       ...\n",
       "101761  -4.725034  3.469927\n",
       "101762   4.670688  5.268190\n",
       "101763  -5.777161  4.109306\n",
       "101764  11.141742  0.458503\n",
       "101765   6.551226  5.905826\n",
       "\n",
       "[101766 rows x 2 columns]"
      ]
     },
     "metadata": {},
     "output_type": "display_data"
    }
   ],
   "source": [
    "display(X_reduced_df)"
   ]
  },
  {
   "cell_type": "markdown",
   "metadata": {},
   "source": [
    "As we can see, we have two principal components that explain 50% of variation. These two components are a linear combination of the original features which are listed below."
   ]
  },
  {
   "cell_type": "markdown",
   "metadata": {},
   "source": [
    "The selected features are as follows:"
   ]
  },
  {
   "cell_type": "code",
   "execution_count": 113,
   "metadata": {},
   "outputs": [
    {
     "name": "stdout",
     "output_type": "stream",
     "text": [
      "Selected features:\n",
      "diag_1\n",
      "metformin\n",
      "gender_Female\n",
      "age\n",
      "change_No\n",
      "pioglitazone\n",
      "glyburide\n",
      "admission_type_id_Elective\n",
      "discharge_disposition_id_Discharged to home\n",
      "rosiglitazone\n",
      "diabetesMed_No\n",
      "glipizide\n",
      "admission_source_id_Physician Referral\n",
      "admission_source_id_Transfer from a hospital\n",
      "discharge_disposition_id_Discharged/transferred to another rehab fac including rehab units of a hospital .\n",
      "race_Caucasian\n",
      "discharge_disposition_id_Discharged/transferred to another type of inpatient care institution\n",
      "admission_source_id_Transfer from another health care facility\n",
      "glimepiride\n",
      "race_Hispanic\n",
      "glyburide-metformin\n",
      "race_Other\n",
      "chlorpropamide\n",
      "admission_source_id_HMO Referral\n",
      "race_Asian\n",
      "admission_type_id_other\n",
      "admission_source_id_other\n",
      "discharge_disposition_id_Discharged/transferred/referred to a psychiatric hospital of psychiatric distinct part unit of a hospital\n",
      "discharge_disposition_id_Discharged/transferred within this institution to Medicare approved swing bed\n",
      "admission_source_id_Clinic Referral\n",
      "discharge_disposition_id_Discharged/transferred to home under care of Home IV provider\n",
      "acarbose\n",
      "discharge_disposition_id_other\n",
      "discharge_disposition_id_Left AMA\n",
      "nateglinide\n",
      "admission_source_id_Transfer from a Skilled Nursing Facility (SNF)\n",
      "discharge_disposition_id_Discharged/transferred to a long term care hospital.\n",
      "discharge_disposition_id_Discharged/transferred to ICF\n",
      "discharge_disposition_id_Hospice / medical facility\n",
      "discharge_disposition_id_Hospice / home\n",
      "discharge_disposition_id_Discharged/transferred to another short term hospital\n",
      "admission_type_id_Urgent\n",
      "discharge_disposition_id_Discharged/transferred to SNF\n",
      "repaglinide\n",
      "discharge_disposition_id_Expired\n",
      "discharge_disposition_id_Discharged/transferred to home with home health service\n",
      "race_AfricanAmerican\n",
      "diabetesMed_Yes\n",
      "admission_type_id_Emergency\n",
      "admission_source_id_Emergency Room\n",
      "change_Ch\n",
      "number_outpatient\n",
      "gender_Male\n",
      "number_inpatient\n",
      "number_emergency\n",
      "num_medications\n",
      "num_procedures\n",
      "num_lab_procedures\n",
      "insulin\n",
      "time_in_hospital\n",
      "number_diagnoses\n",
      "diag_2\n",
      "diag_3\n"
     ]
    }
   ],
   "source": [
    "n_selected_components = pca.n_components_\n",
    "original_feature_names = X_train.columns\n",
    "selected_feature_indices = pca.components_[:n_selected_components].argsort()[-1:].flatten()\n",
    "selected_feature_names = [original_feature_names[i] for i in selected_feature_indices]\n",
    "\n",
    "print('Selected features:')\n",
    "for feature in selected_feature_names:\n",
    "    print(feature)\n"
   ]
  },
  {
   "cell_type": "markdown",
   "metadata": {},
   "source": [
    "## Unsupervised Learning"
   ]
  },
  {
   "cell_type": "markdown",
   "metadata": {},
   "source": [
    "Unsupervised learning is a type of machine learning that looks for previously undetected patterns in a data set with no pre-existing labels and with a minimum of human supervision. In contrast to supervised learning that usually makes use of human-labeled data, unsupervised learning, also known as self-organization allows for modeling of probability densities over inputs."
   ]
  },
  {
   "cell_type": "markdown",
   "metadata": {},
   "source": [
    "### K-Means Clustering"
   ]
  },
  {
   "cell_type": "markdown",
   "metadata": {},
   "source": [
    "#### Silhouette Score"
   ]
  },
  {
   "cell_type": "markdown",
   "metadata": {},
   "source": [
    "Silhouette score is the mean silhouette coefficient for all instances. An instance's silhouette coefficient is equal to $\\frac{(b - a)}{max(a, b)}$, where a is the mean distance to the other instances in the same cluster and b is the mean distance to the instances in the next closest cluster. The silhouette score ranges from -1 (worst) to 1 (best). A coefficient close to +1 indicates that the instance is well inside its own cluster and far from other clusters, while a coefficient close to 0 indicates that it is close to a cluster boundary, and a coefficient close to -1 indicates that the instance may have been assigned to the wrong cluster."
   ]
  },
  {
   "cell_type": "code",
   "execution_count": 114,
   "metadata": {},
   "outputs": [
    {
     "name": "stdout",
     "output_type": "stream",
     "text": [
      "Number of clusters: 2, WCSS: 2586703.5293032485, Silhouette score: 0.4389438520707982\n",
      "Number of clusters: 3, WCSS: 1550742.0253396686, Silhouette score: 0.47771995725982375\n",
      "Number of clusters: 4, WCSS: 1210736.120273435, Silhouette score: 0.4025614436837104\n",
      "Number of clusters: 5, WCSS: 894633.9339564709, Silhouette score: 0.4258228907304876\n",
      "Number of clusters: 6, WCSS: 672284.0306315155, Silhouette score: 0.4699326052851671\n",
      "Number of clusters: 7, WCSS: 579205.8736867395, Silhouette score: 0.4764809500946443\n",
      "Best number of clusters for KMeans: 3\n"
     ]
    }
   ],
   "source": [
    "from joblib import Parallel, delayed\n",
    "best_n_clusters = 1\n",
    "best_silhouette_score = -1\n",
    "wcss = []\n",
    "silhouette_scores = []\n",
    "range_n_clusters = range(2, 8)\n",
    "\n",
    "def compute_kmeans_silhouette(n_clusters, data):\n",
    "    kmeans = KMeans(n_clusters=n_clusters, random_state=42)\n",
    "    cluster_labels = kmeans.fit_predict(data)\n",
    "    silhouette_avg = silhouette_score(data, cluster_labels)\n",
    "    return (n_clusters, kmeans.inertia_, silhouette_avg)\n",
    "\n",
    "results = Parallel(n_jobs=-1)(delayed(compute_kmeans_silhouette)(n_clusters, X_reduced) for n_clusters in range_n_clusters)\n",
    "\n",
    "for n_clusters, inertia, silhouette_avg in results:\n",
    "    print(f\"Number of clusters: {n_clusters}, WCSS: {inertia}, Silhouette score: {silhouette_avg}\")\n",
    "    wcss.append(inertia)\n",
    "    silhouette_scores.append(silhouette_avg)\n",
    "    if silhouette_avg > best_silhouette_score:\n",
    "        best_silhouette_score = silhouette_avg\n",
    "        best_n_clusters = n_clusters\n",
    "\n",
    "print(f\"Best number of clusters for KMeans: {best_n_clusters}\")\n",
    "\n",
    "kmeans = KMeans(n_clusters=best_n_clusters, random_state=42)\n",
    "kmeans_labels = kmeans.fit_predict(X_reduced)"
   ]
  },
  {
   "cell_type": "code",
   "execution_count": 53,
   "metadata": {},
   "outputs": [
    {
     "data": {
      "image/png": "[encoded data removed]",
      "text/plain": [
       "<Figure size 432x288 with 1 Axes>"
      ]
     },
     "metadata": {
      "needs_background": "light"
     },
     "output_type": "display_data"
    }
   ],
   "source": [
    "plt.plot(range_n_clusters, silhouette_scores, marker='o')\n",
    "plt.xlabel('Number of Clusters')\n",
    "plt.xticks(range_n_clusters)\n",
    "plt.ylabel('Silhouette Score')\n",
    "plt.title('Silhouette Scores for KMeans')\n",
    "plt.show()"
   ]
  },
  {
   "cell_type": "markdown",
   "metadata": {},
   "source": [
    "As we can see the silhouette score is around 0 which is not a good score. This may be due to the high dimensionality of the data. We reduce the dimensionality of the data using PCA and applying 0.5 for the number of components percentage."
   ]
  },
  {
   "cell_type": "markdown",
   "metadata": {},
   "source": [
    "#### Elbow Method Plot"
   ]
  },
  {
   "cell_type": "markdown",
   "metadata": {},
   "source": [
    "The elbow method is a heuristic used to determine the optimal number of clusters in a dataset. The method consists of plotting the explained variation as a function of the number of clusters, and picking the elbow of the curve as the number of clusters to use. The explained variation is the percentage of variance that each of the principal components explains. WCSS stands for Within-Cluster Sum of Squares which is the sum of squares of the distances of each data point in all clusters to their respective centroids. The idea is to minimize WCSS."
   ]
  },
  {
   "cell_type": "code",
   "execution_count": 54,
   "metadata": {},
   "outputs": [
    {
     "data": {
      "image/png": "[encoded data removed]",
      "text/plain": [
       "<Figure size 432x288 with 1 Axes>"
      ]
     },
     "metadata": {
      "needs_background": "light"
     },
     "output_type": "display_data"
    }
   ],
   "source": [
    "plt.plot(range_n_clusters, wcss, marker='o')\n",
    "plt.title('Elbow Method')\n",
    "plt.xlabel('Number of Clusters')\n",
    "plt.ylabel('WCSS')\n",
    "plt.xticks(range_n_clusters)\n",
    "plt.show()"
   ]
  },
  {
   "cell_type": "markdown",
   "metadata": {},
   "source": [
    "As we can see from the elbow method plot, the optimal number of clusters seems to be 3."
   ]
  },
  {
   "cell_type": "markdown",
   "metadata": {},
   "source": [
    "### DBSCAN Clustering"
   ]
  },
  {
   "cell_type": "markdown",
   "metadata": {},
   "source": [
    "DBSCAN (Density-Based Spatial Clustering of Applications with Noise) is a clustering algorithm that groups together points that are closely packed. It is also able to identify points that are in low-density regions as outliers. The algorithm works by defining a minimum number of points (min_samples) and a maximum distance from a point for another point to be considered its neighbor (eps). Points that have at least min_samples neighbors within a distance of eps are considered as core points and form a cluster. Points that do not have enough neighbors but are close to a core point are considered as border points and are part of the same cluster as the core point. Points that are neither core nor border points are considered as noise."
   ]
  },
  {
   "cell_type": "code",
   "execution_count": 115,
   "metadata": {},
   "outputs": [
    {
     "name": "stdout",
     "output_type": "stream",
     "text": [
      "eps: 0.3, min_samples: 2, Silhouette score: -0.4969348882171014\n",
      "eps: 0.3, min_samples: 3, Silhouette score: -0.45816284117045575\n",
      "eps: 0.3, min_samples: 5, Silhouette score: -0.38952541594603646\n",
      "eps: 0.3, min_samples: 7, Silhouette score: -0.3552647035441286\n",
      "eps: 0.5, min_samples: 2, Silhouette score: -0.20348322848527964\n",
      "eps: 0.5, min_samples: 3, Silhouette score: -0.19235800664743222\n",
      "eps: 0.5, min_samples: 5, Silhouette score: -0.15969400288255078\n",
      "eps: 0.5, min_samples: 7, Silhouette score: -0.07349656992388381\n",
      "Best silhouette score for DBSCAN: -0.07\n",
      "Optimal eps for DBSCAN: 0.50\n",
      "Optimal min_samples for DBSCAN: 7\n"
     ]
    }
   ],
   "source": [
    "eps_values = [0.3, 0.5, 1.0]\n",
    "min_samples_values = [2, 3, 5, 7]\n",
    "\n",
    "silhouette_scores = np.zeros((len(eps_values), len(min_samples_values)))\n",
    "\n",
    "for i, eps in enumerate(eps_values):\n",
    "    for j, min_samples in enumerate(min_samples_values):\n",
    "        dbscan = DBSCAN(eps=eps, min_samples=min_samples)\n",
    "        dbscan_labels = dbscan.fit_predict(X_reduced)\n",
    "        if len(np.unique(dbscan_labels)) > 1:\n",
    "            silhouette_scores[i, j] = silhouette_score(X_reduced, dbscan_labels)\n",
    "            print(f\"eps: {eps}, min_samples: {min_samples}, Silhouette score: {silhouette_scores[i, j]}\")\n",
    "        else:\n",
    "            silhouette_scores[i, j] = -1\n",
    "\n",
    "best_silhouette_score = np.max(silhouette_scores)\n",
    "best_eps_index = np.argmax(np.max(silhouette_scores, axis=1))\n",
    "best_min_samples_index = np.argmax(silhouette_scores[best_eps_index])\n",
    "best_eps = eps_values[best_eps_index]\n",
    "best_min_samples = min_samples_values[best_min_samples_index]\n",
    "\n",
    "print(f\"Best silhouette score for DBSCAN: {best_silhouette_score:.2f}\")\n",
    "print(f\"Optimal eps for DBSCAN: {best_eps:.2f}\")\n",
    "print(f\"Optimal min_samples for DBSCAN: {best_min_samples}\")"
   ]
  },
  {
   "cell_type": "code",
   "execution_count": 116,
   "metadata": {},
   "outputs": [
    {
     "data": {
      "image/png": "[encoded data removed]",
      "text/plain": [
       "<Figure size 720x504 with 2 Axes>"
      ]
     },
     "metadata": {
      "needs_background": "light"
     },
     "output_type": "display_data"
    }
   ],
   "source": [
    "import seaborn as sns\n",
    "plt.figure(figsize=(10, 7))\n",
    "sns.heatmap(silhouette_scores, xticklabels=min_samples_values, yticklabels=eps_values, annot=True, fmt=\".2f\", cmap=\"viridis\")\n",
    "plt.title(\"Silhouette Scores for DBSCAN with Different Parameters\")\n",
    "plt.xlabel(\"min_samples\")\n",
    "plt.ylabel(\"eps\")\n",
    "plt.show()"
   ]
  },
  {
   "cell_type": "markdown",
   "metadata": {},
   "source": [
    "As we can see from the above plot the optimal value for eps seems to be 0.3 and the optimal value for min_samples seems to be 5 which results in a silhouette score of -0.13. As we can see the silhouette score is negative which is not a good score and k-mean model works better than DBSCAN for this dataset."
   ]
  },
  {
   "cell_type": "markdown",
   "metadata": {},
   "source": [
    "## Questions"
   ]
  },
  {
   "cell_type": "markdown",
   "metadata": {},
   "source": [
    "**Question 1:** `What preprocessing steps did you perform on the dataset? Provide clear reasons for each decision made.`  \n",
    "- Mapping the Labels: We map the description of the admission_type_id, discharge_disposition_id, and admission_source_id to the corresponding integer values in order to be able to handle missing values later.\n",
    "- Handling Duplicate Rows: We check for duplicate rows in order to remove them. In this dataset, there are no duplicate rows.\n",
    "- Handling Missing Values: We replace `Not Mapped`, `Not Available`, `Unknown/Invalid`, `?`, and `None` values with `np.nan` in order to consider them as missing values. We also drop the columns with more than 30% missing values. We fill the other missing values with the most frequent value in each column because most of them have a high frequency. Handling missing values is necessary to ensure the algorithms can process the data without errors also if missing values are not handled properly, the model may learn incorrect patterns, leading to poor generalization and inaccurate predictions.\n",
    "- Encoding Categorical Columns: We count the number of unique values in each categorical column and drop the columns with only one unique value. We encode the categorical columns which were ordinal containing medication features and age column using label encoding. We also convert the remaining categorical columns to numerical using one-hot encoding. Encoding categorical columns is necessary because most machine learning algorithms require numerical input and output variables. Also, the model may interpret the ordinal values as having some kind of order or hierarchy.\n",
    "- Handling Outliers: We calculate the z-score of each column and replace the values that their z-score is more than 3 or less than -3 with the median of the column. We use replacing instead of removing the rows because the dataset has many columns and removing the rows may cause loss of information. Handling outliers is necessary because outliers can skew the results and make the model less accurate.\n",
    "- standardizing the data: We standardize the data using StandardScaler to ensure that each feature contributes equally to the distance computations. Standardizing the data is necessary because many machine learning algorithms perform better or converge faster when features are on a relatively similar scale and close to normally distributed. The key point in standardization is that we only standardize the numerical features."
   ]
  },
  {
   "cell_type": "markdown",
   "metadata": {},
   "source": [
    "**Question 2:** `What portion of the dataset did you retain during dimensionality reduction, and which variables were retained? Could you elaborate on the rationale behind this decision?`  \n",
    "During dimensionality reduction, the goal is to reduce the number of features or variables in a dataset while retaining as much information as possible. In this case, we used PCA to reduce the dimensionality of the dataset. We set the `n_components` parameter to 0.9 to keep the minimum number of principal components that explain 90% of the variance. The rationale behind this decision is to reduce the dimensionality of the dataset while retaining most of the variance in the data. The retained variables are the principal components that explain the most variance in the data. In this case, we retained variables after dimensionality reduction which are shown in the previous code cell."
   ]
  },
  {
   "cell_type": "markdown",
   "metadata": {},
   "source": [
    "**Question 3:** `How can we determine the optimal number of clusters in K-Means?`   \n",
    "There are several methods to determine the optimal number of clusters:\n",
    "- Elbow Method: The Elbow Method is a heuristic method used to estimate the optimal number of clusters in a dataset. It works by plotting the within-cluster sum of squares (WCSS) against the number of clusters. The optimal number of clusters is the point where the rate of decrease in WCSS slows down, forming an \"elbow\" in the plot.\n",
    "- Silhouette Score: The Silhouette Score is a metric used to evaluate the quality of clusters created by a clustering algorithm. It measures how similar an instance is to its own cluster compared to other clusters. The Silhouette Score ranges from -1 to 1, where a higher score indicates better-defined clusters. The optimal number of clusters is the one that maximizes the Silhouette Score. We used this method to determine the optimal number of clusters in K-Means in this notebook.\n",
    "- Gap Statistics: Gap Statistics is another method used to estimate the optimal number of clusters. It compares the within-cluster variation for different numbers of clusters with their expected values under null reference distribution of the data. The optimal number of clusters is the one that maximizes the gap statistic.\n",
    "- Davies-Bouldin Index: The Davies-Bouldin Index evaluates the average similarity ratio of each cluster with the cluster that is most similar to it. Lower values indicate better clustering."
   ]
  },
  {
   "cell_type": "markdown",
   "metadata": {},
   "source": [
    "**Question 4:** `How can we determine the optimal epsilon value and minPts in DBSCAN?`  \n",
    "Determining the optimal epsilon value and minPts in DBSCAN can be done using the following methods:\n",
    "- Silhouette Score: The Silhouette Score can be used to evaluate the quality of clusters created by DBSCAN. It measures how similar an instance is to its own cluster compared to other clusters. The optimal epsilon value and minPts are the ones that maximize the Silhouette Score.\n",
    "- K-Distance Graph: Compute the distance to the k-nearest neighbor for each point and plot them sorted in ascending order. The optimal eps value often corresponds to the \"knee\" or elbow point in the graph.\n",
    "- Reachability Plot: Plot the points in the dataset sorted by their reachability distance. The point where the reachability plot exhibits a significant increase indicates a suitable eps value. The reachability score is the distance between a point and its k-nearest neighbor."
   ]
  },
  {
   "cell_type": "markdown",
   "metadata": {},
   "source": [
    "**Question 5:** `When would you recommend using K-Means, and when would you suggest using DBSCAN instead?`  \n",
    "We use K-Means when: \n",
    "- The dataset is large and clusters are spherical and similar in size.\n",
    "- The number of clusters is known and fixed.\n",
    "- The speed and scalability are important.\n",
    "Customer segmentation in marketing where you expect roughly spherical clusters representing different customer types is a good example for using K-Means. \n",
    "\n",
    "We use DBSCAN when:\n",
    "- The clusters are irregular in shape and vary in density.\n",
    "- The number of clusters is not known.\n",
    "- The data is not too high-dimensional.\n",
    "Identifying geographic regions with different population densities or finding clusters in spatial data with noise, like star formation in astronomy is a good example for using DBSCAN."
   ]
  }
 ],
 "metadata": {
  "kernelspec": {
   "display_name": "Python 3",
   "language": "python",
   "name": "python3"
  },
  "language_info": {
   "codemirror_mode": {
    "name": "ipython",
    "version": 3
   },
   "file_extension": ".py",
   "mimetype": "text/x-python",
   "name": "python",
   "nbconvert_exporter": "python",
   "pygments_lexer": "ipython3",
   "version": "3.10.4"
  },
  "orig_nbformat": 4
 },
 "nbformat": 4,
 "nbformat_minor": 2
}
